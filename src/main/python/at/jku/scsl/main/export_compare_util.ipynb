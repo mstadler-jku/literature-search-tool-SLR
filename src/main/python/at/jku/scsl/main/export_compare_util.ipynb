{
 "cells": [
  {
   "cell_type": "code",
   "execution_count": 28,
   "id": "initial_id",
   "metadata": {
    "collapsed": true,
    "ExecuteTime": {
     "end_time": "2023-09-05T14:39:34.293607100Z",
     "start_time": "2023-09-05T14:39:34.121549Z"
    }
   },
   "outputs": [
    {
     "name": "stdout",
     "output_type": "stream",
     "text": [
      "Length of df_export: \t4360\n",
      "Length of df_manual: \t4360\n"
     ]
    }
   ],
   "source": [
    "import os.path\n",
    "import pandas as pd\n",
    "\n",
    "# paths\n",
    "df_one_path = os.path.join('outputs','cleaning_export', 'cleaning_p2.csv')\n",
    "df_two_path = os.path.join('csv_files_v2', 'manual_parse_rdy.csv')\n",
    "\n",
    "# read data\n",
    "df_export = pd.read_csv(df_one_path)\n",
    "df_manual = pd.read_csv(df_two_path)\n",
    "\n",
    "# print length\n",
    "print(f'Length of df_export: \\t{len(df_export)}')\n",
    "print(f'Length of df_manual: \\t{len(df_manual)}')"
   ]
  },
  {
   "cell_type": "code",
   "execution_count": 29,
   "outputs": [
    {
     "data": {
      "text/plain": "      Unnamed: 0.1  Unnamed: 0  \\\n0                0           0   \n1                1           1   \n2                2           2   \n3                3           3   \n4                4           4   \n...            ...         ...   \n4355          4355        1049   \n4356          4356        1053   \n4357          4357        1054   \n4358          4358        1062   \n4359          4359        1064   \n\n                                                  title  \\\n0     An integrated state transition-Boolean logic m...   \n1     Wind power multi-scenario state transition bas...   \n2     A Software Watermarking Algorithm Based on Sta...   \n3     A network security situation perception model ...   \n4     An Improved State Transition-Based Security Po...   \n...                                                 ...   \n4355  Peeking into Your App without Actually Seeing ...   \n4356  USING PROCESS-ORIENTED-GROUPING AND LINEAR ALG...   \n4357  THE RESEARCH ON ULTRASONIC TESTING TECHNOLOGY ...   \n4358  Achievements and Perspectives of the COSMO-Sky...   \n4359  Using Cloud SaaS to ensure interoperability an...   \n\n                                                authors  \\\n0                    A. Zimba; C. Hongsong; W. Zhaoshun   \n1                   M. Xiang; M. Zhou; Z. Zhang; Y. Liu   \n2                                 X. Jinchao; Z. Guosun   \n3                                      Liu Nian; Y. Liu   \n4     D. Xiangdong; C. Xingyuan; W. Yongliang; W. Yi...   \n...                                                 ...   \n4355                              Chen QA,Qian Z,Mao ZM   \n4356                    Koch T,Deutschmann A,Moeller DP   \n4357                Liang G,Xuguang X,Jiafan C,Zhaoyu C   \n4358  Valentini G,Battazza F,Coletta A,Covello F,Man...   \n4359                                    Majda E,Ahmed E   \n\n                           doi  \\\n0     10.1109/CCI.2016.7778962   \n1         10.1049/cp.2012.1808   \n2          10.1109/NSS.2010.51   \n3         10.1049/cp.2012.0940   \n4       10.1109/ICCIS.2010.154   \n...                        ...   \n4355                       NaN   \n4356                       NaN   \n4357                       NaN   \n4358                       NaN   \n4359                       NaN   \n\n                                                   link pub_year  \\\n0     https://ieeexplore.ieee.org/stamp/stamp.jsp?ar...   2016.0   \n1     https://ieeexplore.ieee.org/stamp/stamp.jsp?ar...   2012.0   \n2     https://ieeexplore.ieee.org/stamp/stamp.jsp?ar...   2010.0   \n3     https://ieeexplore.ieee.org/stamp/stamp.jsp?ar...   2012.0   \n4     https://ieeexplore.ieee.org/stamp/stamp.jsp?ar...   2010.0   \n...                                                 ...      ...   \n4355                                                NaN     2014   \n4356                                                NaN     2019   \n4357                                                NaN     2017   \n4358                                                NaN     2009   \n4359                                                NaN     2015   \n\n                  type                                           abstract  \\\n0     IEEE Conferences  The hype over cloud computing cannot go unnoti...   \n1      IET Conferences  As wind power penetrations are increasing in t...   \n2     IEEE Conferences  In the Internet age, Software security and pir...   \n3      IET Conferences  This paper proposes a new Model of Network Sec...   \n4     IEEE Conferences  Security policy is the core to ensure the syst...   \n...                ...                                                ...   \n4355  Conference Paper  The security of smartphone GUI frameworks rema...   \n4356  Conference Paper  Airport operation gets more complicated due to...   \n4357  Conference Paper  Reactor Pressure Vessel (hereinafter RPV) is t...   \n4358  Conference Paper  In 2007 and 2008 ASI (Agenzia Spaziale Italian...   \n4359  Conference Paper  During the last years, because of the evolutio...   \n\n              source                                          pub_title  \n0        IEEE Xplore  2016 First IEEE International Conference on Co...  \n1        IEEE Xplore  International Conference on Sustainable Power ...  \n2        IEEE Xplore  2010 Fourth International Conference on Networ...  \n3        IEEE Xplore  International Conference on Automatic Control ...  \n4        IEEE Xplore  2010 International Conference on Computational...  \n...              ...                                                ...  \n4355  Web of Science  PROCEEDINGS OF THE 23RD USENIX SECURITY SYMPOSIUM  \n4356  Web of Science  2019 INTEGRATED COMMUNICATIONS, NAVIGATION AND...  \n4357  Web of Science  PROCEEDINGS OF THE 25TH INTERNATIONAL CONFEREN...  \n4358  Web of Science       PIERS 2009 MOSCOW VOLS I AND II, PROCEEDINGS  \n4359  Web of Science  PROCEEDINGS OF THE 2015 5TH WORLD CONGRESS ON ...  \n\n[4360 rows x 11 columns]",
      "text/html": "<div>\n<style scoped>\n    .dataframe tbody tr th:only-of-type {\n        vertical-align: middle;\n    }\n\n    .dataframe tbody tr th {\n        vertical-align: top;\n    }\n\n    .dataframe thead th {\n        text-align: right;\n    }\n</style>\n<table border=\"1\" class=\"dataframe\">\n  <thead>\n    <tr style=\"text-align: right;\">\n      <th></th>\n      <th>Unnamed: 0.1</th>\n      <th>Unnamed: 0</th>\n      <th>title</th>\n      <th>authors</th>\n      <th>doi</th>\n      <th>link</th>\n      <th>pub_year</th>\n      <th>type</th>\n      <th>abstract</th>\n      <th>source</th>\n      <th>pub_title</th>\n    </tr>\n  </thead>\n  <tbody>\n    <tr>\n      <th>0</th>\n      <td>0</td>\n      <td>0</td>\n      <td>An integrated state transition-Boolean logic m...</td>\n      <td>A. Zimba; C. Hongsong; W. Zhaoshun</td>\n      <td>10.1109/CCI.2016.7778962</td>\n      <td>https://ieeexplore.ieee.org/stamp/stamp.jsp?ar...</td>\n      <td>2016.0</td>\n      <td>IEEE Conferences</td>\n      <td>The hype over cloud computing cannot go unnoti...</td>\n      <td>IEEE Xplore</td>\n      <td>2016 First IEEE International Conference on Co...</td>\n    </tr>\n    <tr>\n      <th>1</th>\n      <td>1</td>\n      <td>1</td>\n      <td>Wind power multi-scenario state transition bas...</td>\n      <td>M. Xiang; M. Zhou; Z. Zhang; Y. Liu</td>\n      <td>10.1049/cp.2012.1808</td>\n      <td>https://ieeexplore.ieee.org/stamp/stamp.jsp?ar...</td>\n      <td>2012.0</td>\n      <td>IET Conferences</td>\n      <td>As wind power penetrations are increasing in t...</td>\n      <td>IEEE Xplore</td>\n      <td>International Conference on Sustainable Power ...</td>\n    </tr>\n    <tr>\n      <th>2</th>\n      <td>2</td>\n      <td>2</td>\n      <td>A Software Watermarking Algorithm Based on Sta...</td>\n      <td>X. Jinchao; Z. Guosun</td>\n      <td>10.1109/NSS.2010.51</td>\n      <td>https://ieeexplore.ieee.org/stamp/stamp.jsp?ar...</td>\n      <td>2010.0</td>\n      <td>IEEE Conferences</td>\n      <td>In the Internet age, Software security and pir...</td>\n      <td>IEEE Xplore</td>\n      <td>2010 Fourth International Conference on Networ...</td>\n    </tr>\n    <tr>\n      <th>3</th>\n      <td>3</td>\n      <td>3</td>\n      <td>A network security situation perception model ...</td>\n      <td>Liu Nian; Y. Liu</td>\n      <td>10.1049/cp.2012.0940</td>\n      <td>https://ieeexplore.ieee.org/stamp/stamp.jsp?ar...</td>\n      <td>2012.0</td>\n      <td>IET Conferences</td>\n      <td>This paper proposes a new Model of Network Sec...</td>\n      <td>IEEE Xplore</td>\n      <td>International Conference on Automatic Control ...</td>\n    </tr>\n    <tr>\n      <th>4</th>\n      <td>4</td>\n      <td>4</td>\n      <td>An Improved State Transition-Based Security Po...</td>\n      <td>D. Xiangdong; C. Xingyuan; W. Yongliang; W. Yi...</td>\n      <td>10.1109/ICCIS.2010.154</td>\n      <td>https://ieeexplore.ieee.org/stamp/stamp.jsp?ar...</td>\n      <td>2010.0</td>\n      <td>IEEE Conferences</td>\n      <td>Security policy is the core to ensure the syst...</td>\n      <td>IEEE Xplore</td>\n      <td>2010 International Conference on Computational...</td>\n    </tr>\n    <tr>\n      <th>...</th>\n      <td>...</td>\n      <td>...</td>\n      <td>...</td>\n      <td>...</td>\n      <td>...</td>\n      <td>...</td>\n      <td>...</td>\n      <td>...</td>\n      <td>...</td>\n      <td>...</td>\n      <td>...</td>\n    </tr>\n    <tr>\n      <th>4355</th>\n      <td>4355</td>\n      <td>1049</td>\n      <td>Peeking into Your App without Actually Seeing ...</td>\n      <td>Chen QA,Qian Z,Mao ZM</td>\n      <td>NaN</td>\n      <td>NaN</td>\n      <td>2014</td>\n      <td>Conference Paper</td>\n      <td>The security of smartphone GUI frameworks rema...</td>\n      <td>Web of Science</td>\n      <td>PROCEEDINGS OF THE 23RD USENIX SECURITY SYMPOSIUM</td>\n    </tr>\n    <tr>\n      <th>4356</th>\n      <td>4356</td>\n      <td>1053</td>\n      <td>USING PROCESS-ORIENTED-GROUPING AND LINEAR ALG...</td>\n      <td>Koch T,Deutschmann A,Moeller DP</td>\n      <td>NaN</td>\n      <td>NaN</td>\n      <td>2019</td>\n      <td>Conference Paper</td>\n      <td>Airport operation gets more complicated due to...</td>\n      <td>Web of Science</td>\n      <td>2019 INTEGRATED COMMUNICATIONS, NAVIGATION AND...</td>\n    </tr>\n    <tr>\n      <th>4357</th>\n      <td>4357</td>\n      <td>1054</td>\n      <td>THE RESEARCH ON ULTRASONIC TESTING TECHNOLOGY ...</td>\n      <td>Liang G,Xuguang X,Jiafan C,Zhaoyu C</td>\n      <td>NaN</td>\n      <td>NaN</td>\n      <td>2017</td>\n      <td>Conference Paper</td>\n      <td>Reactor Pressure Vessel (hereinafter RPV) is t...</td>\n      <td>Web of Science</td>\n      <td>PROCEEDINGS OF THE 25TH INTERNATIONAL CONFEREN...</td>\n    </tr>\n    <tr>\n      <th>4358</th>\n      <td>4358</td>\n      <td>1062</td>\n      <td>Achievements and Perspectives of the COSMO-Sky...</td>\n      <td>Valentini G,Battazza F,Coletta A,Covello F,Man...</td>\n      <td>NaN</td>\n      <td>NaN</td>\n      <td>2009</td>\n      <td>Conference Paper</td>\n      <td>In 2007 and 2008 ASI (Agenzia Spaziale Italian...</td>\n      <td>Web of Science</td>\n      <td>PIERS 2009 MOSCOW VOLS I AND II, PROCEEDINGS</td>\n    </tr>\n    <tr>\n      <th>4359</th>\n      <td>4359</td>\n      <td>1064</td>\n      <td>Using Cloud SaaS to ensure interoperability an...</td>\n      <td>Majda E,Ahmed E</td>\n      <td>NaN</td>\n      <td>NaN</td>\n      <td>2015</td>\n      <td>Conference Paper</td>\n      <td>During the last years, because of the evolutio...</td>\n      <td>Web of Science</td>\n      <td>PROCEEDINGS OF THE 2015 5TH WORLD CONGRESS ON ...</td>\n    </tr>\n  </tbody>\n</table>\n<p>4360 rows × 11 columns</p>\n</div>"
     },
     "execution_count": 29,
     "metadata": {},
     "output_type": "execute_result"
    }
   ],
   "source": [
    "df_export"
   ],
   "metadata": {
    "collapsed": false,
    "ExecuteTime": {
     "end_time": "2023-09-05T14:39:34.309822Z",
     "start_time": "2023-09-05T14:39:34.300863500Z"
    }
   },
   "id": "d707d775ca4d82ec"
  },
  {
   "cell_type": "code",
   "execution_count": 30,
   "outputs": [
    {
     "data": {
      "text/plain": "      Unnamed: 0    id                                              title  \\\n0              0     0  An integrated state transition-Boolean logic m...   \n1              1     1  Wind power multi-scenario state transition bas...   \n2              2     2  A Software Watermarking Algorithm Based on Sta...   \n3              3     3  A network security situation perception model ...   \n4              4     4  An Improved State Transition-Based Security Po...   \n...          ...   ...                                                ...   \n4355        4418  1049  Peeking into Your App without Actually Seeing ...   \n4356        4419  1053  USING PROCESS-ORIENTED-GROUPING AND LINEAR ALG...   \n4357        4420  1054  THE RESEARCH ON ULTRASONIC TESTING TECHNOLOGY ...   \n4358        4421  1062  Achievements and Perspectives of the COSMO-Sky...   \n4359        4422  1064  Using Cloud SaaS to ensure interoperability an...   \n\n                                                authors  \\\n0                    A. Zimba; C. Hongsong; W. Zhaoshun   \n1                   M. Xiang; M. Zhou; Z. Zhang; Y. Liu   \n2                                 X. Jinchao; Z. Guosun   \n3                                      Liu Nian; Y. Liu   \n4     D. Xiangdong; C. Xingyuan; W. Yongliang; W. Yi...   \n...                                                 ...   \n4355                              Chen QA,Qian Z,Mao ZM   \n4356                    Koch T,Deutschmann A,Moeller DP   \n4357                Liang G,Xuguang X,Jiafan C,Zhaoyu C   \n4358  Valentini G,Battazza F,Coletta A,Covello F,Man...   \n4359                                    Majda E,Ahmed E   \n\n                           doi  \\\n0     10.1109/CCI.2016.7778962   \n1         10.1049/cp.2012.1808   \n2          10.1109/NSS.2010.51   \n3         10.1049/cp.2012.0940   \n4       10.1109/ICCIS.2010.154   \n...                        ...   \n4355                       NaN   \n4356                       NaN   \n4357                       NaN   \n4358                       NaN   \n4359                       NaN   \n\n                                                   link pub_year  \\\n0     https://ieeexplore.ieee.org/stamp/stamp.jsp?ar...   2016.0   \n1     https://ieeexplore.ieee.org/stamp/stamp.jsp?ar...   2012.0   \n2     https://ieeexplore.ieee.org/stamp/stamp.jsp?ar...   2010.0   \n3     https://ieeexplore.ieee.org/stamp/stamp.jsp?ar...   2012.0   \n4     https://ieeexplore.ieee.org/stamp/stamp.jsp?ar...   2010.0   \n...                                                 ...      ...   \n4355                                                NaN     2014   \n4356                                                NaN     2019   \n4357                                                NaN     2017   \n4358                                                NaN     2009   \n4359                                                NaN     2015   \n\n                  type                                           abstract  \\\n0     IEEE Conferences  The hype over cloud computing cannot go unnoti...   \n1      IET Conferences  As wind power penetrations are increasing in t...   \n2     IEEE Conferences  In the Internet age, Software security and pir...   \n3      IET Conferences  This paper proposes a new Model of Network Sec...   \n4     IEEE Conferences  Security policy is the core to ensure the syst...   \n...                ...                                                ...   \n4355  Conference Paper  The security of smartphone GUI frameworks rema...   \n4356  Conference Paper  Airport operation gets more complicated due to...   \n4357  Conference Paper  Reactor Pressure Vessel (hereinafter RPV) is t...   \n4358  Conference Paper  In 2007 and 2008 ASI (Agenzia Spaziale Italian...   \n4359  Conference Paper  During the last years, because of the evolutio...   \n\n              source                                          pub_title  \n0        IEEE Xplore  2016 First IEEE International Conference on Co...  \n1        IEEE Xplore  International Conference on Sustainable Power ...  \n2        IEEE Xplore  2010 Fourth International Conference on Networ...  \n3        IEEE Xplore  International Conference on Automatic Control ...  \n4        IEEE Xplore  2010 International Conference on Computational...  \n...              ...                                                ...  \n4355  Web of Science  PROCEEDINGS OF THE 23RD USENIX SECURITY SYMPOSIUM  \n4356  Web of Science  2019 INTEGRATED COMMUNICATIONS, NAVIGATION AND...  \n4357  Web of Science  PROCEEDINGS OF THE 25TH INTERNATIONAL CONFEREN...  \n4358  Web of Science       PIERS 2009 MOSCOW VOLS I AND II, PROCEEDINGS  \n4359  Web of Science  PROCEEDINGS OF THE 2015 5TH WORLD CONGRESS ON ...  \n\n[4360 rows x 11 columns]",
      "text/html": "<div>\n<style scoped>\n    .dataframe tbody tr th:only-of-type {\n        vertical-align: middle;\n    }\n\n    .dataframe tbody tr th {\n        vertical-align: top;\n    }\n\n    .dataframe thead th {\n        text-align: right;\n    }\n</style>\n<table border=\"1\" class=\"dataframe\">\n  <thead>\n    <tr style=\"text-align: right;\">\n      <th></th>\n      <th>Unnamed: 0</th>\n      <th>id</th>\n      <th>title</th>\n      <th>authors</th>\n      <th>doi</th>\n      <th>link</th>\n      <th>pub_year</th>\n      <th>type</th>\n      <th>abstract</th>\n      <th>source</th>\n      <th>pub_title</th>\n    </tr>\n  </thead>\n  <tbody>\n    <tr>\n      <th>0</th>\n      <td>0</td>\n      <td>0</td>\n      <td>An integrated state transition-Boolean logic m...</td>\n      <td>A. Zimba; C. Hongsong; W. Zhaoshun</td>\n      <td>10.1109/CCI.2016.7778962</td>\n      <td>https://ieeexplore.ieee.org/stamp/stamp.jsp?ar...</td>\n      <td>2016.0</td>\n      <td>IEEE Conferences</td>\n      <td>The hype over cloud computing cannot go unnoti...</td>\n      <td>IEEE Xplore</td>\n      <td>2016 First IEEE International Conference on Co...</td>\n    </tr>\n    <tr>\n      <th>1</th>\n      <td>1</td>\n      <td>1</td>\n      <td>Wind power multi-scenario state transition bas...</td>\n      <td>M. Xiang; M. Zhou; Z. Zhang; Y. Liu</td>\n      <td>10.1049/cp.2012.1808</td>\n      <td>https://ieeexplore.ieee.org/stamp/stamp.jsp?ar...</td>\n      <td>2012.0</td>\n      <td>IET Conferences</td>\n      <td>As wind power penetrations are increasing in t...</td>\n      <td>IEEE Xplore</td>\n      <td>International Conference on Sustainable Power ...</td>\n    </tr>\n    <tr>\n      <th>2</th>\n      <td>2</td>\n      <td>2</td>\n      <td>A Software Watermarking Algorithm Based on Sta...</td>\n      <td>X. Jinchao; Z. Guosun</td>\n      <td>10.1109/NSS.2010.51</td>\n      <td>https://ieeexplore.ieee.org/stamp/stamp.jsp?ar...</td>\n      <td>2010.0</td>\n      <td>IEEE Conferences</td>\n      <td>In the Internet age, Software security and pir...</td>\n      <td>IEEE Xplore</td>\n      <td>2010 Fourth International Conference on Networ...</td>\n    </tr>\n    <tr>\n      <th>3</th>\n      <td>3</td>\n      <td>3</td>\n      <td>A network security situation perception model ...</td>\n      <td>Liu Nian; Y. Liu</td>\n      <td>10.1049/cp.2012.0940</td>\n      <td>https://ieeexplore.ieee.org/stamp/stamp.jsp?ar...</td>\n      <td>2012.0</td>\n      <td>IET Conferences</td>\n      <td>This paper proposes a new Model of Network Sec...</td>\n      <td>IEEE Xplore</td>\n      <td>International Conference on Automatic Control ...</td>\n    </tr>\n    <tr>\n      <th>4</th>\n      <td>4</td>\n      <td>4</td>\n      <td>An Improved State Transition-Based Security Po...</td>\n      <td>D. Xiangdong; C. Xingyuan; W. Yongliang; W. Yi...</td>\n      <td>10.1109/ICCIS.2010.154</td>\n      <td>https://ieeexplore.ieee.org/stamp/stamp.jsp?ar...</td>\n      <td>2010.0</td>\n      <td>IEEE Conferences</td>\n      <td>Security policy is the core to ensure the syst...</td>\n      <td>IEEE Xplore</td>\n      <td>2010 International Conference on Computational...</td>\n    </tr>\n    <tr>\n      <th>...</th>\n      <td>...</td>\n      <td>...</td>\n      <td>...</td>\n      <td>...</td>\n      <td>...</td>\n      <td>...</td>\n      <td>...</td>\n      <td>...</td>\n      <td>...</td>\n      <td>...</td>\n      <td>...</td>\n    </tr>\n    <tr>\n      <th>4355</th>\n      <td>4418</td>\n      <td>1049</td>\n      <td>Peeking into Your App without Actually Seeing ...</td>\n      <td>Chen QA,Qian Z,Mao ZM</td>\n      <td>NaN</td>\n      <td>NaN</td>\n      <td>2014</td>\n      <td>Conference Paper</td>\n      <td>The security of smartphone GUI frameworks rema...</td>\n      <td>Web of Science</td>\n      <td>PROCEEDINGS OF THE 23RD USENIX SECURITY SYMPOSIUM</td>\n    </tr>\n    <tr>\n      <th>4356</th>\n      <td>4419</td>\n      <td>1053</td>\n      <td>USING PROCESS-ORIENTED-GROUPING AND LINEAR ALG...</td>\n      <td>Koch T,Deutschmann A,Moeller DP</td>\n      <td>NaN</td>\n      <td>NaN</td>\n      <td>2019</td>\n      <td>Conference Paper</td>\n      <td>Airport operation gets more complicated due to...</td>\n      <td>Web of Science</td>\n      <td>2019 INTEGRATED COMMUNICATIONS, NAVIGATION AND...</td>\n    </tr>\n    <tr>\n      <th>4357</th>\n      <td>4420</td>\n      <td>1054</td>\n      <td>THE RESEARCH ON ULTRASONIC TESTING TECHNOLOGY ...</td>\n      <td>Liang G,Xuguang X,Jiafan C,Zhaoyu C</td>\n      <td>NaN</td>\n      <td>NaN</td>\n      <td>2017</td>\n      <td>Conference Paper</td>\n      <td>Reactor Pressure Vessel (hereinafter RPV) is t...</td>\n      <td>Web of Science</td>\n      <td>PROCEEDINGS OF THE 25TH INTERNATIONAL CONFEREN...</td>\n    </tr>\n    <tr>\n      <th>4358</th>\n      <td>4421</td>\n      <td>1062</td>\n      <td>Achievements and Perspectives of the COSMO-Sky...</td>\n      <td>Valentini G,Battazza F,Coletta A,Covello F,Man...</td>\n      <td>NaN</td>\n      <td>NaN</td>\n      <td>2009</td>\n      <td>Conference Paper</td>\n      <td>In 2007 and 2008 ASI (Agenzia Spaziale Italian...</td>\n      <td>Web of Science</td>\n      <td>PIERS 2009 MOSCOW VOLS I AND II, PROCEEDINGS</td>\n    </tr>\n    <tr>\n      <th>4359</th>\n      <td>4422</td>\n      <td>1064</td>\n      <td>Using Cloud SaaS to ensure interoperability an...</td>\n      <td>Majda E,Ahmed E</td>\n      <td>NaN</td>\n      <td>NaN</td>\n      <td>2015</td>\n      <td>Conference Paper</td>\n      <td>During the last years, because of the evolutio...</td>\n      <td>Web of Science</td>\n      <td>PROCEEDINGS OF THE 2015 5TH WORLD CONGRESS ON ...</td>\n    </tr>\n  </tbody>\n</table>\n<p>4360 rows × 11 columns</p>\n</div>"
     },
     "execution_count": 30,
     "metadata": {},
     "output_type": "execute_result"
    }
   ],
   "source": [
    "df_manual"
   ],
   "metadata": {
    "collapsed": false,
    "ExecuteTime": {
     "end_time": "2023-09-05T14:39:34.361354100Z",
     "start_time": "2023-09-05T14:39:34.309822Z"
    }
   },
   "id": "6dc224536d4f8c67"
  },
  {
   "cell_type": "code",
   "execution_count": 31,
   "outputs": [
    {
     "data": {
      "text/plain": "                                               Type_old  \\\n0     An integrated state transition-Boolean logic m...   \n1     Wind power multi-scenario state transition bas...   \n2     A Software Watermarking Algorithm Based on Sta...   \n3     A network security situation perception model ...   \n4     An Improved State Transition-Based Security Po...   \n...                                                 ...   \n4355  Peeking into Your App without Actually Seeing ...   \n4356  USING PROCESS-ORIENTED-GROUPING AND LINEAR ALG...   \n4357  THE RESEARCH ON ULTRASONIC TESTING TECHNOLOGY ...   \n4358  Achievements and Perspectives of the COSMO-Sky...   \n4359  Using Cloud SaaS to ensure interoperability an...   \n\n                                               Type_new  \n0     An integrated state transition-Boolean logic m...  \n1     Wind power multi-scenario state transition bas...  \n2     A Software Watermarking Algorithm Based on Sta...  \n3     A network security situation perception model ...  \n4     An Improved State Transition-Based Security Po...  \n...                                                 ...  \n4355  Peeking into Your App without Actually Seeing ...  \n4356  USING PROCESS-ORIENTED-GROUPING AND LINEAR ALG...  \n4357  THE RESEARCH ON ULTRASONIC TESTING TECHNOLOGY ...  \n4358  Achievements and Perspectives of the COSMO-Sky...  \n4359  Using Cloud SaaS to ensure interoperability an...  \n\n[4360 rows x 2 columns]",
      "text/html": "<div>\n<style scoped>\n    .dataframe tbody tr th:only-of-type {\n        vertical-align: middle;\n    }\n\n    .dataframe tbody tr th {\n        vertical-align: top;\n    }\n\n    .dataframe thead th {\n        text-align: right;\n    }\n</style>\n<table border=\"1\" class=\"dataframe\">\n  <thead>\n    <tr style=\"text-align: right;\">\n      <th></th>\n      <th>Type_old</th>\n      <th>Type_new</th>\n    </tr>\n  </thead>\n  <tbody>\n    <tr>\n      <th>0</th>\n      <td>An integrated state transition-Boolean logic m...</td>\n      <td>An integrated state transition-Boolean logic m...</td>\n    </tr>\n    <tr>\n      <th>1</th>\n      <td>Wind power multi-scenario state transition bas...</td>\n      <td>Wind power multi-scenario state transition bas...</td>\n    </tr>\n    <tr>\n      <th>2</th>\n      <td>A Software Watermarking Algorithm Based on Sta...</td>\n      <td>A Software Watermarking Algorithm Based on Sta...</td>\n    </tr>\n    <tr>\n      <th>3</th>\n      <td>A network security situation perception model ...</td>\n      <td>A network security situation perception model ...</td>\n    </tr>\n    <tr>\n      <th>4</th>\n      <td>An Improved State Transition-Based Security Po...</td>\n      <td>An Improved State Transition-Based Security Po...</td>\n    </tr>\n    <tr>\n      <th>...</th>\n      <td>...</td>\n      <td>...</td>\n    </tr>\n    <tr>\n      <th>4355</th>\n      <td>Peeking into Your App without Actually Seeing ...</td>\n      <td>Peeking into Your App without Actually Seeing ...</td>\n    </tr>\n    <tr>\n      <th>4356</th>\n      <td>USING PROCESS-ORIENTED-GROUPING AND LINEAR ALG...</td>\n      <td>USING PROCESS-ORIENTED-GROUPING AND LINEAR ALG...</td>\n    </tr>\n    <tr>\n      <th>4357</th>\n      <td>THE RESEARCH ON ULTRASONIC TESTING TECHNOLOGY ...</td>\n      <td>THE RESEARCH ON ULTRASONIC TESTING TECHNOLOGY ...</td>\n    </tr>\n    <tr>\n      <th>4358</th>\n      <td>Achievements and Perspectives of the COSMO-Sky...</td>\n      <td>Achievements and Perspectives of the COSMO-Sky...</td>\n    </tr>\n    <tr>\n      <th>4359</th>\n      <td>Using Cloud SaaS to ensure interoperability an...</td>\n      <td>Using Cloud SaaS to ensure interoperability an...</td>\n    </tr>\n  </tbody>\n</table>\n<p>4360 rows × 2 columns</p>\n</div>"
     },
     "execution_count": 31,
     "metadata": {},
     "output_type": "execute_result"
    }
   ],
   "source": [
    "df_all = pd.DataFrame()\n",
    "df_all['Type_old'] = df_export.title\n",
    "df_all['Type_new'] = df_manual.title\n",
    "df_all"
   ],
   "metadata": {
    "collapsed": false,
    "ExecuteTime": {
     "end_time": "2023-09-05T14:39:34.427515600Z",
     "start_time": "2023-09-05T14:39:34.327338800Z"
    }
   },
   "id": "f29859ce77b14d47"
  },
  {
   "cell_type": "code",
   "execution_count": 32,
   "outputs": [
    {
     "data": {
      "text/plain": "                                               Type_old  \\\n1502  Development of the Experimental Stand for Stud...   \n1916  State-transition matrices as an analysis and f...   \n3790  A civil military functional safety management ...   \n4069  Recent advances in the development of polarime...   \n\n                                               Type_new  \n1502  Development of the Experimental Stand for Stud...  \n1916  State-transition matrices as an analysis and f...  \n3790  A civil military functional safety management ...  \n4069  Recent advances in the development of polarime...  ",
      "text/html": "<div>\n<style scoped>\n    .dataframe tbody tr th:only-of-type {\n        vertical-align: middle;\n    }\n\n    .dataframe tbody tr th {\n        vertical-align: top;\n    }\n\n    .dataframe thead th {\n        text-align: right;\n    }\n</style>\n<table border=\"1\" class=\"dataframe\">\n  <thead>\n    <tr style=\"text-align: right;\">\n      <th></th>\n      <th>Type_old</th>\n      <th>Type_new</th>\n    </tr>\n  </thead>\n  <tbody>\n    <tr>\n      <th>1502</th>\n      <td>Development of the Experimental Stand for Stud...</td>\n      <td>Development of the Experimental Stand for Stud...</td>\n    </tr>\n    <tr>\n      <th>1916</th>\n      <td>State-transition matrices as an analysis and f...</td>\n      <td>State-transition matrices as an analysis and f...</td>\n    </tr>\n    <tr>\n      <th>3790</th>\n      <td>A civil military functional safety management ...</td>\n      <td>A civil military functional safety management ...</td>\n    </tr>\n    <tr>\n      <th>4069</th>\n      <td>Recent advances in the development of polarime...</td>\n      <td>Recent advances in the development of polarime...</td>\n    </tr>\n  </tbody>\n</table>\n</div>"
     },
     "execution_count": 32,
     "metadata": {},
     "output_type": "execute_result"
    }
   ],
   "source": [
    "df_all.loc[~(df_all['Type_old'] == df_all['Type_new'])]"
   ],
   "metadata": {
    "collapsed": false,
    "ExecuteTime": {
     "end_time": "2023-09-05T14:39:34.427515600Z",
     "start_time": "2023-09-05T14:39:34.344524100Z"
    }
   },
   "id": "9ff483479a489371"
  },
  {
   "cell_type": "code",
   "execution_count": 33,
   "outputs": [
    {
     "data": {
      "text/plain": "Empty DataFrame\nColumns: [Unnamed: 0.1, Unnamed: 0, title, authors, doi, link, pub_year, type, abstract, source, pub_title]\nIndex: []",
      "text/html": "<div>\n<style scoped>\n    .dataframe tbody tr th:only-of-type {\n        vertical-align: middle;\n    }\n\n    .dataframe tbody tr th {\n        vertical-align: top;\n    }\n\n    .dataframe thead th {\n        text-align: right;\n    }\n</style>\n<table border=\"1\" class=\"dataframe\">\n  <thead>\n    <tr style=\"text-align: right;\">\n      <th></th>\n      <th>Unnamed: 0.1</th>\n      <th>Unnamed: 0</th>\n      <th>title</th>\n      <th>authors</th>\n      <th>doi</th>\n      <th>link</th>\n      <th>pub_year</th>\n      <th>type</th>\n      <th>abstract</th>\n      <th>source</th>\n      <th>pub_title</th>\n    </tr>\n  </thead>\n  <tbody>\n  </tbody>\n</table>\n</div>"
     },
     "execution_count": 33,
     "metadata": {},
     "output_type": "execute_result"
    }
   ],
   "source": [
    "df_export[df_export.title == 'IEEE Draft Standard for Biometric Multi-modal Fusion']"
   ],
   "metadata": {
    "collapsed": false,
    "ExecuteTime": {
     "end_time": "2023-09-05T14:39:34.427515600Z",
     "start_time": "2023-09-05T14:39:34.353547800Z"
    }
   },
   "id": "87e16a51e709a759"
  }
 ],
 "metadata": {
  "kernelspec": {
   "display_name": "Python 3",
   "language": "python",
   "name": "python3"
  },
  "language_info": {
   "codemirror_mode": {
    "name": "ipython",
    "version": 2
   },
   "file_extension": ".py",
   "mimetype": "text/x-python",
   "name": "python",
   "nbconvert_exporter": "python",
   "pygments_lexer": "ipython2",
   "version": "2.7.6"
  }
 },
 "nbformat": 4,
 "nbformat_minor": 5
}
