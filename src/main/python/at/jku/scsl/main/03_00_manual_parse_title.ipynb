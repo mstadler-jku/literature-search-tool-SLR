{
 "cells": [
  {
   "cell_type": "code",
   "execution_count": 58,
   "id": "initial_id",
   "metadata": {
    "collapsed": true,
    "ExecuteTime": {
     "end_time": "2023-09-11T07:40:42.002405600Z",
     "start_time": "2023-09-11T07:40:41.764316Z"
    }
   },
   "outputs": [
    {
     "data": {
      "text/plain": "        id  relevant?                                              title  \\\n0        1          y  An integrated state transition-Boolean logic m...   \n1        2          n  Wind power multi-scenario state transition bas...   \n2        3          n  A Software Watermarking Algorithm Based on Sta...   \n3        4          y  A network security situation perception model ...   \n4        5          n  An Improved State Transition-Based Security Po...   \n...    ...        ...                                                ...   \n4355  4356  duplicate  Peeking into Your App without Actually Seeing ...   \n4356  4357  duplicate  USING PROCESS-ORIENTED-GROUPING AND LINEAR ALG...   \n4357  4358  duplicate  THE RESEARCH ON ULTRASONIC TESTING TECHNOLOGY ...   \n4358  4359          n  Achievements and Perspectives of the COSMO-Sky...   \n4359  4360  duplicate  Using Cloud SaaS to ensure interoperability an...   \n\n                                         Clickable Link  \\\n0     https://ieeexplore.ieee.org/stamp/stamp.jsp?ar...   \n1     https://ieeexplore.ieee.org/stamp/stamp.jsp?ar...   \n2     https://ieeexplore.ieee.org/stamp/stamp.jsp?ar...   \n3     https://ieeexplore.ieee.org/stamp/stamp.jsp?ar...   \n4     https://ieeexplore.ieee.org/stamp/stamp.jsp?ar...   \n...                                                 ...   \n4355                                                NaN   \n4356                                                NaN   \n4357                                                NaN   \n4358                                                NaN   \n4359                                                NaN   \n\n                                                authors  \\\n0                    A. Zimba; C. Hongsong; W. Zhaoshun   \n1                   M. Xiang; M. Zhou; Z. Zhang; Y. Liu   \n2                                 X. Jinchao; Z. Guosun   \n3                                      Liu Nian; Y. Liu   \n4     D. Xiangdong; C. Xingyuan; W. Yongliang; W. Yi...   \n...                                                 ...   \n4355                              Chen QA,Qian Z,Mao ZM   \n4356                    Koch T,Deutschmann A,Moeller DP   \n4357                Liang G,Xuguang X,Jiafan C,Zhaoyu C   \n4358  Valentini G,Battazza F,Coletta A,Covello F,Man...   \n4359                                    Majda E,Ahmed E   \n\n                           doi  \\\n0     10.1109/CCI.2016.7778962   \n1         10.1049/cp.2012.1808   \n2          10.1109/NSS.2010.51   \n3         10.1049/cp.2012.0940   \n4       10.1109/ICCIS.2010.154   \n...                        ...   \n4355                       NaN   \n4356                       NaN   \n4357                       NaN   \n4358                       NaN   \n4359                       NaN   \n\n                                                   link  pub_year  \\\n0     https://ieeexplore.ieee.org/stamp/stamp.jsp?ar...   20160.0   \n1     https://ieeexplore.ieee.org/stamp/stamp.jsp?ar...   20120.0   \n2     https://ieeexplore.ieee.org/stamp/stamp.jsp?ar...   20100.0   \n3     https://ieeexplore.ieee.org/stamp/stamp.jsp?ar...   20120.0   \n4     https://ieeexplore.ieee.org/stamp/stamp.jsp?ar...   20100.0   \n...                                                 ...       ...   \n4355                                                NaN    2014.0   \n4356                                                NaN    2019.0   \n4357                                                NaN    2017.0   \n4358                                                NaN    2009.0   \n4359                                                NaN    2015.0   \n\n                  type                                           abstract  \\\n0     IEEE Conferences  The hype over cloud computing cannot go unnoti...   \n1      IET Conferences  As wind power penetrations are increasing in t...   \n2     IEEE Conferences  In the Internet age, Software security and pir...   \n3      IET Conferences  This paper proposes a new Model of Network Sec...   \n4     IEEE Conferences  Security policy is the core to ensure the syst...   \n...                ...                                                ...   \n4355  Conference Paper  The security of smartphone GUI frameworks rema...   \n4356  Conference Paper  Airport operation gets more complicated due to...   \n4357  Conference Paper  Reactor Pressure Vessel (hereinafter RPV) is t...   \n4358  Conference Paper  In 2007 and 2008 ASI (Agenzia Spaziale Italian...   \n4359  Conference Paper  During the last years, because of the evolutio...   \n\n              source                                          pub_title  \n0        IEEE Xplore  2016 First IEEE International Conference on Co...  \n1        IEEE Xplore  International Conference on Sustainable Power ...  \n2        IEEE Xplore  2010 Fourth International Conference on Networ...  \n3        IEEE Xplore  International Conference on Automatic Control ...  \n4        IEEE Xplore  2010 International Conference on Computational...  \n...              ...                                                ...  \n4355  Web of Science  PROCEEDINGS OF THE 23RD USENIX SECURITY SYMPOSIUM  \n4356  Web of Science  2019 INTEGRATED COMMUNICATIONS, NAVIGATION AND...  \n4357  Web of Science  PROCEEDINGS OF THE 25TH INTERNATIONAL CONFEREN...  \n4358  Web of Science       PIERS 2009 MOSCOW VOLS I AND II, PROCEEDINGS  \n4359  Web of Science  PROCEEDINGS OF THE 2015 5TH WORLD CONGRESS ON ...  \n\n[4360 rows x 12 columns]",
      "text/html": "<div>\n<style scoped>\n    .dataframe tbody tr th:only-of-type {\n        vertical-align: middle;\n    }\n\n    .dataframe tbody tr th {\n        vertical-align: top;\n    }\n\n    .dataframe thead th {\n        text-align: right;\n    }\n</style>\n<table border=\"1\" class=\"dataframe\">\n  <thead>\n    <tr style=\"text-align: right;\">\n      <th></th>\n      <th>id</th>\n      <th>relevant?</th>\n      <th>title</th>\n      <th>Clickable Link</th>\n      <th>authors</th>\n      <th>doi</th>\n      <th>link</th>\n      <th>pub_year</th>\n      <th>type</th>\n      <th>abstract</th>\n      <th>source</th>\n      <th>pub_title</th>\n    </tr>\n  </thead>\n  <tbody>\n    <tr>\n      <th>0</th>\n      <td>1</td>\n      <td>y</td>\n      <td>An integrated state transition-Boolean logic m...</td>\n      <td>https://ieeexplore.ieee.org/stamp/stamp.jsp?ar...</td>\n      <td>A. Zimba; C. Hongsong; W. Zhaoshun</td>\n      <td>10.1109/CCI.2016.7778962</td>\n      <td>https://ieeexplore.ieee.org/stamp/stamp.jsp?ar...</td>\n      <td>20160.0</td>\n      <td>IEEE Conferences</td>\n      <td>The hype over cloud computing cannot go unnoti...</td>\n      <td>IEEE Xplore</td>\n      <td>2016 First IEEE International Conference on Co...</td>\n    </tr>\n    <tr>\n      <th>1</th>\n      <td>2</td>\n      <td>n</td>\n      <td>Wind power multi-scenario state transition bas...</td>\n      <td>https://ieeexplore.ieee.org/stamp/stamp.jsp?ar...</td>\n      <td>M. Xiang; M. Zhou; Z. Zhang; Y. Liu</td>\n      <td>10.1049/cp.2012.1808</td>\n      <td>https://ieeexplore.ieee.org/stamp/stamp.jsp?ar...</td>\n      <td>20120.0</td>\n      <td>IET Conferences</td>\n      <td>As wind power penetrations are increasing in t...</td>\n      <td>IEEE Xplore</td>\n      <td>International Conference on Sustainable Power ...</td>\n    </tr>\n    <tr>\n      <th>2</th>\n      <td>3</td>\n      <td>n</td>\n      <td>A Software Watermarking Algorithm Based on Sta...</td>\n      <td>https://ieeexplore.ieee.org/stamp/stamp.jsp?ar...</td>\n      <td>X. Jinchao; Z. Guosun</td>\n      <td>10.1109/NSS.2010.51</td>\n      <td>https://ieeexplore.ieee.org/stamp/stamp.jsp?ar...</td>\n      <td>20100.0</td>\n      <td>IEEE Conferences</td>\n      <td>In the Internet age, Software security and pir...</td>\n      <td>IEEE Xplore</td>\n      <td>2010 Fourth International Conference on Networ...</td>\n    </tr>\n    <tr>\n      <th>3</th>\n      <td>4</td>\n      <td>y</td>\n      <td>A network security situation perception model ...</td>\n      <td>https://ieeexplore.ieee.org/stamp/stamp.jsp?ar...</td>\n      <td>Liu Nian; Y. Liu</td>\n      <td>10.1049/cp.2012.0940</td>\n      <td>https://ieeexplore.ieee.org/stamp/stamp.jsp?ar...</td>\n      <td>20120.0</td>\n      <td>IET Conferences</td>\n      <td>This paper proposes a new Model of Network Sec...</td>\n      <td>IEEE Xplore</td>\n      <td>International Conference on Automatic Control ...</td>\n    </tr>\n    <tr>\n      <th>4</th>\n      <td>5</td>\n      <td>n</td>\n      <td>An Improved State Transition-Based Security Po...</td>\n      <td>https://ieeexplore.ieee.org/stamp/stamp.jsp?ar...</td>\n      <td>D. Xiangdong; C. Xingyuan; W. Yongliang; W. Yi...</td>\n      <td>10.1109/ICCIS.2010.154</td>\n      <td>https://ieeexplore.ieee.org/stamp/stamp.jsp?ar...</td>\n      <td>20100.0</td>\n      <td>IEEE Conferences</td>\n      <td>Security policy is the core to ensure the syst...</td>\n      <td>IEEE Xplore</td>\n      <td>2010 International Conference on Computational...</td>\n    </tr>\n    <tr>\n      <th>...</th>\n      <td>...</td>\n      <td>...</td>\n      <td>...</td>\n      <td>...</td>\n      <td>...</td>\n      <td>...</td>\n      <td>...</td>\n      <td>...</td>\n      <td>...</td>\n      <td>...</td>\n      <td>...</td>\n      <td>...</td>\n    </tr>\n    <tr>\n      <th>4355</th>\n      <td>4356</td>\n      <td>duplicate</td>\n      <td>Peeking into Your App without Actually Seeing ...</td>\n      <td>NaN</td>\n      <td>Chen QA,Qian Z,Mao ZM</td>\n      <td>NaN</td>\n      <td>NaN</td>\n      <td>2014.0</td>\n      <td>Conference Paper</td>\n      <td>The security of smartphone GUI frameworks rema...</td>\n      <td>Web of Science</td>\n      <td>PROCEEDINGS OF THE 23RD USENIX SECURITY SYMPOSIUM</td>\n    </tr>\n    <tr>\n      <th>4356</th>\n      <td>4357</td>\n      <td>duplicate</td>\n      <td>USING PROCESS-ORIENTED-GROUPING AND LINEAR ALG...</td>\n      <td>NaN</td>\n      <td>Koch T,Deutschmann A,Moeller DP</td>\n      <td>NaN</td>\n      <td>NaN</td>\n      <td>2019.0</td>\n      <td>Conference Paper</td>\n      <td>Airport operation gets more complicated due to...</td>\n      <td>Web of Science</td>\n      <td>2019 INTEGRATED COMMUNICATIONS, NAVIGATION AND...</td>\n    </tr>\n    <tr>\n      <th>4357</th>\n      <td>4358</td>\n      <td>duplicate</td>\n      <td>THE RESEARCH ON ULTRASONIC TESTING TECHNOLOGY ...</td>\n      <td>NaN</td>\n      <td>Liang G,Xuguang X,Jiafan C,Zhaoyu C</td>\n      <td>NaN</td>\n      <td>NaN</td>\n      <td>2017.0</td>\n      <td>Conference Paper</td>\n      <td>Reactor Pressure Vessel (hereinafter RPV) is t...</td>\n      <td>Web of Science</td>\n      <td>PROCEEDINGS OF THE 25TH INTERNATIONAL CONFEREN...</td>\n    </tr>\n    <tr>\n      <th>4358</th>\n      <td>4359</td>\n      <td>n</td>\n      <td>Achievements and Perspectives of the COSMO-Sky...</td>\n      <td>NaN</td>\n      <td>Valentini G,Battazza F,Coletta A,Covello F,Man...</td>\n      <td>NaN</td>\n      <td>NaN</td>\n      <td>2009.0</td>\n      <td>Conference Paper</td>\n      <td>In 2007 and 2008 ASI (Agenzia Spaziale Italian...</td>\n      <td>Web of Science</td>\n      <td>PIERS 2009 MOSCOW VOLS I AND II, PROCEEDINGS</td>\n    </tr>\n    <tr>\n      <th>4359</th>\n      <td>4360</td>\n      <td>duplicate</td>\n      <td>Using Cloud SaaS to ensure interoperability an...</td>\n      <td>NaN</td>\n      <td>Majda E,Ahmed E</td>\n      <td>NaN</td>\n      <td>NaN</td>\n      <td>2015.0</td>\n      <td>Conference Paper</td>\n      <td>During the last years, because of the evolutio...</td>\n      <td>Web of Science</td>\n      <td>PROCEEDINGS OF THE 2015 5TH WORLD CONGRESS ON ...</td>\n    </tr>\n  </tbody>\n</table>\n<p>4360 rows × 12 columns</p>\n</div>"
     },
     "execution_count": 58,
     "metadata": {},
     "output_type": "execute_result"
    }
   ],
   "source": [
    "import os.path\n",
    "\n",
    "import pandas as pd\n",
    "\n",
    "df_manual_parse_raw = pd.read_csv(\n",
    "    os.path.join('csv_files_after_mparse_title', 'after_mparse_title_without_dupl_marker.csv'), delimiter=';',\n",
    "    encoding='cp1252')\n",
    "df_manual_parse_raw"
   ]
  },
  {
   "cell_type": "markdown",
   "source": [
    "## Standardize title and mark duplicates"
   ],
   "metadata": {
    "collapsed": false
   },
   "id": "faa3e26fa4b7f548"
  },
  {
   "cell_type": "code",
   "execution_count": 59,
   "outputs": [
    {
     "data": {
      "text/plain": "                                                  title  size\n381   a review of factors influencing the implementa...     3\n3334  robust multispectral palmprint identification ...     3\n3831  the prediction role of hidden markov model in ...     3\n3980  trustworthy multi-modal framework for life-cri...     3",
      "text/html": "<div>\n<style scoped>\n    .dataframe tbody tr th:only-of-type {\n        vertical-align: middle;\n    }\n\n    .dataframe tbody tr th {\n        vertical-align: top;\n    }\n\n    .dataframe thead th {\n        text-align: right;\n    }\n</style>\n<table border=\"1\" class=\"dataframe\">\n  <thead>\n    <tr style=\"text-align: right;\">\n      <th></th>\n      <th>title</th>\n      <th>size</th>\n    </tr>\n  </thead>\n  <tbody>\n    <tr>\n      <th>381</th>\n      <td>a review of factors influencing the implementa...</td>\n      <td>3</td>\n    </tr>\n    <tr>\n      <th>3334</th>\n      <td>robust multispectral palmprint identification ...</td>\n      <td>3</td>\n    </tr>\n    <tr>\n      <th>3831</th>\n      <td>the prediction role of hidden markov model in ...</td>\n      <td>3</td>\n    </tr>\n    <tr>\n      <th>3980</th>\n      <td>trustworthy multi-modal framework for life-cri...</td>\n      <td>3</td>\n    </tr>\n  </tbody>\n</table>\n</div>"
     },
     "execution_count": 59,
     "metadata": {},
     "output_type": "execute_result"
    }
   ],
   "source": [
    "df_dupl_test = df_manual_parse_raw.copy()\n",
    "df_dupl_test.title = df_dupl_test.title.apply(lambda x: x.lower() if isinstance(x, str) else x)\n",
    "duplicates_new = df_dupl_test[df_dupl_test.title.duplicated()]\n",
    "## count duplicates\n",
    "temp = df_dupl_test.groupby(df_dupl_test.title, as_index=False).size()\n",
    "temp[temp['size'] > 2]\n"
   ],
   "metadata": {
    "collapsed": false,
    "ExecuteTime": {
     "end_time": "2023-09-11T07:40:42.031158400Z",
     "start_time": "2023-09-11T07:40:41.846420Z"
    }
   },
   "id": "bab1c8552486d18e"
  },
  {
   "cell_type": "code",
   "execution_count": 60,
   "outputs": [
    {
     "data": {
      "text/plain": "        id  relevant?                                              title  \\\n445    446  duplicate  transparent 3rd-party authentication with appl...   \n1381  1382  duplicate   principled design of the modern web architecture   \n2134  2135  duplicate  fast, compact, and expressive attribute-based ...   \n2209  2210  duplicate  a review of factors influencing the implementa...   \n2727  2728  duplicate  born and raised distributively: fully distribu...   \n...    ...        ...                                                ...   \n4354  4355  duplicate                  total information awareness (tia)   \n4355  4356  duplicate  peeking into your app without actually seeing ...   \n4356  4357  duplicate  using process-oriented-grouping and linear alg...   \n4357  4358  duplicate  the research on ultrasonic testing technology ...   \n4359  4360  duplicate  using cloud saas to ensure interoperability an...   \n\n                                         Clickable Link  \\\n445   https://ieeexplore.ieee.org/stamp/stamp.jsp?ar...   \n1381  https://doi.org/10.1145/514183.514185;http://d...   \n2134  https://www.scopus.com/inward/record.uri?eid=2...   \n2209  https://www.scopus.com/inward/record.uri?eid=2...   \n2727  https://www.scopus.com/inward/record.uri?eid=2...   \n...                                                 ...   \n4354                                                NaN   \n4355                                                NaN   \n4356                                                NaN   \n4357                                                NaN   \n4359                                                NaN   \n\n                                                authors  \\\n445           A. Ali; Y. -D. Lin; C. -Y. Li; Y. -C. Lai   \n1381                              Fielding RT,Taylor RN   \n2134  Tomida, Junichi (57191262200); Kawahara, Yuto ...   \n2209  Jakeri, Mazni Mohamed (57207773656); Hassan, M...   \n2727  Libert, Benoît (8921974100); Joye, Marc (55919...   \n...                                                 ...   \n4354                      Poindexter J,Popp R,Sharkey B   \n4355                              Chen QA,Qian Z,Mao ZM   \n4356                    Koch T,Deutschmann A,Moeller DP   \n4357                Liang G,Xuguang X,Jiafan C,Zhaoyu C   \n4359                                    Majda E,Ahmed E   \n\n                                  doi  \\\n445   10.1109/EuCNC48522.2020.9200937   \n1381            10.1145/514183.514185   \n2134      10.1007/978-3-030-45374-9_1   \n2209        10.1109/IISA.2018.8631401   \n2727        10.1016/j.tcs.2016.02.031   \n...                               ...   \n4354                              NaN   \n4355                              NaN   \n4356                              NaN   \n4357                              NaN   \n4359                              NaN   \n\n                                                   link  pub_year  \\\n445   https://ieeexplore.ieee.org/stamp/stamp.jsp?ar...   20200.0   \n1381  https://doi.org/10.1145/514183.514185;http://d...    2002.0   \n2134  https://www.scopus.com/inward/record.uri?eid=2...    2020.0   \n2209  https://www.scopus.com/inward/record.uri?eid=2...    2019.0   \n2727  https://www.scopus.com/inward/record.uri?eid=2...    2016.0   \n...                                                 ...       ...   \n4354                                                NaN    2003.0   \n4355                                                NaN    2014.0   \n4356                                                NaN    2019.0   \n4357                                                NaN    2017.0   \n4359                                                NaN    2015.0   \n\n                  type                                           abstract  \\\n445   IEEE Conferences  Multi-access Edge Computing (MEC) is a key tec...   \n1381   Journal Article  The World Wide Web has succeeded in large part...   \n2134  Conference paper  Attribute-based encryption (ABE) is an advance...   \n2209  Conference paper  Every year, web applications have expanded the...   \n2727           Article  Threshold cryptography is a fundamental distri...   \n...                ...                                                ...   \n4354  Conference Paper  The world has changed dramatically since the C...   \n4355  Conference Paper  The security of smartphone GUI frameworks rema...   \n4356  Conference Paper  Airport operation gets more complicated due to...   \n4357  Conference Paper  Reactor Pressure Vessel (hereinafter RPV) is t...   \n4359  Conference Paper  During the last years, because of the evolutio...   \n\n                   source                                          pub_title  \n445           IEEE Xplore  2020 European Conference on Networks and Commu...  \n1381  ACM Digital Library                       ACM Trans. Internet Technol.  \n2134               Scopus  Lecture Notes in Computer Science (including s...  \n2209               Scopus  2018 IEEE Conference on Application, Informati...  \n2727               Scopus                       Theoretical Computer Science  \n...                   ...                                                ...  \n4354       Web of Science  2003 IEEE AEROSPACE CONFERENCE PROCEEDINGS, VO...  \n4355       Web of Science  PROCEEDINGS OF THE 23RD USENIX SECURITY SYMPOSIUM  \n4356       Web of Science  2019 INTEGRATED COMMUNICATIONS, NAVIGATION AND...  \n4357       Web of Science  PROCEEDINGS OF THE 25TH INTERNATIONAL CONFEREN...  \n4359       Web of Science  PROCEEDINGS OF THE 2015 5TH WORLD CONGRESS ON ...  \n\n[224 rows x 12 columns]",
      "text/html": "<div>\n<style scoped>\n    .dataframe tbody tr th:only-of-type {\n        vertical-align: middle;\n    }\n\n    .dataframe tbody tr th {\n        vertical-align: top;\n    }\n\n    .dataframe thead th {\n        text-align: right;\n    }\n</style>\n<table border=\"1\" class=\"dataframe\">\n  <thead>\n    <tr style=\"text-align: right;\">\n      <th></th>\n      <th>id</th>\n      <th>relevant?</th>\n      <th>title</th>\n      <th>Clickable Link</th>\n      <th>authors</th>\n      <th>doi</th>\n      <th>link</th>\n      <th>pub_year</th>\n      <th>type</th>\n      <th>abstract</th>\n      <th>source</th>\n      <th>pub_title</th>\n    </tr>\n  </thead>\n  <tbody>\n    <tr>\n      <th>445</th>\n      <td>446</td>\n      <td>duplicate</td>\n      <td>transparent 3rd-party authentication with appl...</td>\n      <td>https://ieeexplore.ieee.org/stamp/stamp.jsp?ar...</td>\n      <td>A. Ali; Y. -D. Lin; C. -Y. Li; Y. -C. Lai</td>\n      <td>10.1109/EuCNC48522.2020.9200937</td>\n      <td>https://ieeexplore.ieee.org/stamp/stamp.jsp?ar...</td>\n      <td>20200.0</td>\n      <td>IEEE Conferences</td>\n      <td>Multi-access Edge Computing (MEC) is a key tec...</td>\n      <td>IEEE Xplore</td>\n      <td>2020 European Conference on Networks and Commu...</td>\n    </tr>\n    <tr>\n      <th>1381</th>\n      <td>1382</td>\n      <td>duplicate</td>\n      <td>principled design of the modern web architecture</td>\n      <td>https://doi.org/10.1145/514183.514185;http://d...</td>\n      <td>Fielding RT,Taylor RN</td>\n      <td>10.1145/514183.514185</td>\n      <td>https://doi.org/10.1145/514183.514185;http://d...</td>\n      <td>2002.0</td>\n      <td>Journal Article</td>\n      <td>The World Wide Web has succeeded in large part...</td>\n      <td>ACM Digital Library</td>\n      <td>ACM Trans. Internet Technol.</td>\n    </tr>\n    <tr>\n      <th>2134</th>\n      <td>2135</td>\n      <td>duplicate</td>\n      <td>fast, compact, and expressive attribute-based ...</td>\n      <td>https://www.scopus.com/inward/record.uri?eid=2...</td>\n      <td>Tomida, Junichi (57191262200); Kawahara, Yuto ...</td>\n      <td>10.1007/978-3-030-45374-9_1</td>\n      <td>https://www.scopus.com/inward/record.uri?eid=2...</td>\n      <td>2020.0</td>\n      <td>Conference paper</td>\n      <td>Attribute-based encryption (ABE) is an advance...</td>\n      <td>Scopus</td>\n      <td>Lecture Notes in Computer Science (including s...</td>\n    </tr>\n    <tr>\n      <th>2209</th>\n      <td>2210</td>\n      <td>duplicate</td>\n      <td>a review of factors influencing the implementa...</td>\n      <td>https://www.scopus.com/inward/record.uri?eid=2...</td>\n      <td>Jakeri, Mazni Mohamed (57207773656); Hassan, M...</td>\n      <td>10.1109/IISA.2018.8631401</td>\n      <td>https://www.scopus.com/inward/record.uri?eid=2...</td>\n      <td>2019.0</td>\n      <td>Conference paper</td>\n      <td>Every year, web applications have expanded the...</td>\n      <td>Scopus</td>\n      <td>2018 IEEE Conference on Application, Informati...</td>\n    </tr>\n    <tr>\n      <th>2727</th>\n      <td>2728</td>\n      <td>duplicate</td>\n      <td>born and raised distributively: fully distribu...</td>\n      <td>https://www.scopus.com/inward/record.uri?eid=2...</td>\n      <td>Libert, Benoît (8921974100); Joye, Marc (55919...</td>\n      <td>10.1016/j.tcs.2016.02.031</td>\n      <td>https://www.scopus.com/inward/record.uri?eid=2...</td>\n      <td>2016.0</td>\n      <td>Article</td>\n      <td>Threshold cryptography is a fundamental distri...</td>\n      <td>Scopus</td>\n      <td>Theoretical Computer Science</td>\n    </tr>\n    <tr>\n      <th>...</th>\n      <td>...</td>\n      <td>...</td>\n      <td>...</td>\n      <td>...</td>\n      <td>...</td>\n      <td>...</td>\n      <td>...</td>\n      <td>...</td>\n      <td>...</td>\n      <td>...</td>\n      <td>...</td>\n      <td>...</td>\n    </tr>\n    <tr>\n      <th>4354</th>\n      <td>4355</td>\n      <td>duplicate</td>\n      <td>total information awareness (tia)</td>\n      <td>NaN</td>\n      <td>Poindexter J,Popp R,Sharkey B</td>\n      <td>NaN</td>\n      <td>NaN</td>\n      <td>2003.0</td>\n      <td>Conference Paper</td>\n      <td>The world has changed dramatically since the C...</td>\n      <td>Web of Science</td>\n      <td>2003 IEEE AEROSPACE CONFERENCE PROCEEDINGS, VO...</td>\n    </tr>\n    <tr>\n      <th>4355</th>\n      <td>4356</td>\n      <td>duplicate</td>\n      <td>peeking into your app without actually seeing ...</td>\n      <td>NaN</td>\n      <td>Chen QA,Qian Z,Mao ZM</td>\n      <td>NaN</td>\n      <td>NaN</td>\n      <td>2014.0</td>\n      <td>Conference Paper</td>\n      <td>The security of smartphone GUI frameworks rema...</td>\n      <td>Web of Science</td>\n      <td>PROCEEDINGS OF THE 23RD USENIX SECURITY SYMPOSIUM</td>\n    </tr>\n    <tr>\n      <th>4356</th>\n      <td>4357</td>\n      <td>duplicate</td>\n      <td>using process-oriented-grouping and linear alg...</td>\n      <td>NaN</td>\n      <td>Koch T,Deutschmann A,Moeller DP</td>\n      <td>NaN</td>\n      <td>NaN</td>\n      <td>2019.0</td>\n      <td>Conference Paper</td>\n      <td>Airport operation gets more complicated due to...</td>\n      <td>Web of Science</td>\n      <td>2019 INTEGRATED COMMUNICATIONS, NAVIGATION AND...</td>\n    </tr>\n    <tr>\n      <th>4357</th>\n      <td>4358</td>\n      <td>duplicate</td>\n      <td>the research on ultrasonic testing technology ...</td>\n      <td>NaN</td>\n      <td>Liang G,Xuguang X,Jiafan C,Zhaoyu C</td>\n      <td>NaN</td>\n      <td>NaN</td>\n      <td>2017.0</td>\n      <td>Conference Paper</td>\n      <td>Reactor Pressure Vessel (hereinafter RPV) is t...</td>\n      <td>Web of Science</td>\n      <td>PROCEEDINGS OF THE 25TH INTERNATIONAL CONFEREN...</td>\n    </tr>\n    <tr>\n      <th>4359</th>\n      <td>4360</td>\n      <td>duplicate</td>\n      <td>using cloud saas to ensure interoperability an...</td>\n      <td>NaN</td>\n      <td>Majda E,Ahmed E</td>\n      <td>NaN</td>\n      <td>NaN</td>\n      <td>2015.0</td>\n      <td>Conference Paper</td>\n      <td>During the last years, because of the evolutio...</td>\n      <td>Web of Science</td>\n      <td>PROCEEDINGS OF THE 2015 5TH WORLD CONGRESS ON ...</td>\n    </tr>\n  </tbody>\n</table>\n<p>224 rows × 12 columns</p>\n</div>"
     },
     "execution_count": 60,
     "metadata": {},
     "output_type": "execute_result"
    }
   ],
   "source": [
    "duplicates_new"
   ],
   "metadata": {
    "collapsed": false,
    "ExecuteTime": {
     "end_time": "2023-09-11T07:40:42.032667700Z",
     "start_time": "2023-09-11T07:40:41.868410300Z"
    }
   },
   "id": "ad40c16074a7463b"
  },
  {
   "cell_type": "markdown",
   "source": [],
   "metadata": {
    "collapsed": false
   },
   "id": "f5913c2f5c8502d2"
  },
  {
   "cell_type": "code",
   "execution_count": 61,
   "outputs": [],
   "source": [
    "# df_manual_parse_raw[df_manual_parse_raw.id.isin(duplicates_new.id)]['relevant?'] = 'duplicate'\n",
    "\n",
    "for index, row in df_manual_parse_raw.iterrows():\n",
    "    if row['relevant?'] == 'duplicate':\n",
    "        df_manual_parse_raw.at[index, 'relevant?'] = '--'\n",
    "\n",
    "for index, row in df_manual_parse_raw.iterrows():\n",
    "    if row.id in duplicates_new.id.values:\n",
    "        df_manual_parse_raw.at[index, 'relevant?'] = 'duplicate'"
   ],
   "metadata": {
    "collapsed": false,
    "ExecuteTime": {
     "end_time": "2023-09-11T07:40:42.486019100Z",
     "start_time": "2023-09-11T07:40:41.884321900Z"
    }
   },
   "id": "40c3763d2db5a96e"
  },
  {
   "cell_type": "code",
   "execution_count": 62,
   "outputs": [],
   "source": [
    "# custom duplicate: typo 'Rabid' vs 'Rapid'\n",
    "df_manual_parse_raw.loc[\n",
    "    df_manual_parse_raw.title == 'Rabid Security Situation Prediction of Smart Grid Based on Markov Chain', 'relevant?'] = 'duplicate'\n",
    "# custom duplicate ANN/DT Approach for Security Evaluation and Preventive Control of Power Systems\n",
    "df_manual_parse_raw.loc[\n",
    "    df_manual_parse_raw.title == 'ANN/DT Approach for Security Evaluation and Preventive Control of Power Systems', 'relevant?'] = 'duplicate'"
   ],
   "metadata": {
    "collapsed": false,
    "ExecuteTime": {
     "end_time": "2023-09-11T07:40:42.493133500Z",
     "start_time": "2023-09-11T07:40:42.486019100Z"
    }
   },
   "id": "186eeb548e43914d"
  },
  {
   "cell_type": "code",
   "execution_count": 63,
   "outputs": [
    {
     "data": {
      "text/plain": "        id  relevant?                                              title  \\\n445    446  duplicate  Transparent 3rd-Party Authentication with Appl...   \n1381  1382  duplicate   Principled Design of the Modern Web Architecture   \n2134  2135  duplicate  Fast, Compact, and Expressive Attribute-Based ...   \n2209  2210  duplicate  A review of factors influencing the implementa...   \n2727  2728  duplicate  Born and raised distributively: Fully distribu...   \n...    ...        ...                                                ...   \n4354  4355  duplicate                  Total Information Awareness (TIA)   \n4355  4356  duplicate  Peeking into Your App without Actually Seeing ...   \n4356  4357  duplicate  USING PROCESS-ORIENTED-GROUPING AND LINEAR ALG...   \n4357  4358  duplicate  THE RESEARCH ON ULTRASONIC TESTING TECHNOLOGY ...   \n4359  4360  duplicate  Using Cloud SaaS to ensure interoperability an...   \n\n                                         Clickable Link  \\\n445   https://ieeexplore.ieee.org/stamp/stamp.jsp?ar...   \n1381  https://doi.org/10.1145/514183.514185;http://d...   \n2134  https://www.scopus.com/inward/record.uri?eid=2...   \n2209  https://www.scopus.com/inward/record.uri?eid=2...   \n2727  https://www.scopus.com/inward/record.uri?eid=2...   \n...                                                 ...   \n4354                                                NaN   \n4355                                                NaN   \n4356                                                NaN   \n4357                                                NaN   \n4359                                                NaN   \n\n                                                authors  \\\n445           A. Ali; Y. -D. Lin; C. -Y. Li; Y. -C. Lai   \n1381                              Fielding RT,Taylor RN   \n2134  Tomida, Junichi (57191262200); Kawahara, Yuto ...   \n2209  Jakeri, Mazni Mohamed (57207773656); Hassan, M...   \n2727  Libert, Benoît (8921974100); Joye, Marc (55919...   \n...                                                 ...   \n4354                      Poindexter J,Popp R,Sharkey B   \n4355                              Chen QA,Qian Z,Mao ZM   \n4356                    Koch T,Deutschmann A,Moeller DP   \n4357                Liang G,Xuguang X,Jiafan C,Zhaoyu C   \n4359                                    Majda E,Ahmed E   \n\n                                  doi  \\\n445   10.1109/EuCNC48522.2020.9200937   \n1381            10.1145/514183.514185   \n2134      10.1007/978-3-030-45374-9_1   \n2209        10.1109/IISA.2018.8631401   \n2727        10.1016/j.tcs.2016.02.031   \n...                               ...   \n4354                              NaN   \n4355                              NaN   \n4356                              NaN   \n4357                              NaN   \n4359                              NaN   \n\n                                                   link  pub_year  \\\n445   https://ieeexplore.ieee.org/stamp/stamp.jsp?ar...   20200.0   \n1381  https://doi.org/10.1145/514183.514185;http://d...    2002.0   \n2134  https://www.scopus.com/inward/record.uri?eid=2...    2020.0   \n2209  https://www.scopus.com/inward/record.uri?eid=2...    2019.0   \n2727  https://www.scopus.com/inward/record.uri?eid=2...    2016.0   \n...                                                 ...       ...   \n4354                                                NaN    2003.0   \n4355                                                NaN    2014.0   \n4356                                                NaN    2019.0   \n4357                                                NaN    2017.0   \n4359                                                NaN    2015.0   \n\n                  type                                           abstract  \\\n445   IEEE Conferences  Multi-access Edge Computing (MEC) is a key tec...   \n1381   Journal Article  The World Wide Web has succeeded in large part...   \n2134  Conference paper  Attribute-based encryption (ABE) is an advance...   \n2209  Conference paper  Every year, web applications have expanded the...   \n2727           Article  Threshold cryptography is a fundamental distri...   \n...                ...                                                ...   \n4354  Conference Paper  The world has changed dramatically since the C...   \n4355  Conference Paper  The security of smartphone GUI frameworks rema...   \n4356  Conference Paper  Airport operation gets more complicated due to...   \n4357  Conference Paper  Reactor Pressure Vessel (hereinafter RPV) is t...   \n4359  Conference Paper  During the last years, because of the evolutio...   \n\n                   source                                          pub_title  \n445           IEEE Xplore  2020 European Conference on Networks and Commu...  \n1381  ACM Digital Library                       ACM Trans. Internet Technol.  \n2134               Scopus  Lecture Notes in Computer Science (including s...  \n2209               Scopus  2018 IEEE Conference on Application, Informati...  \n2727               Scopus                       Theoretical Computer Science  \n...                   ...                                                ...  \n4354       Web of Science  2003 IEEE AEROSPACE CONFERENCE PROCEEDINGS, VO...  \n4355       Web of Science  PROCEEDINGS OF THE 23RD USENIX SECURITY SYMPOSIUM  \n4356       Web of Science  2019 INTEGRATED COMMUNICATIONS, NAVIGATION AND...  \n4357       Web of Science  PROCEEDINGS OF THE 25TH INTERNATIONAL CONFEREN...  \n4359       Web of Science  PROCEEDINGS OF THE 2015 5TH WORLD CONGRESS ON ...  \n\n[226 rows x 12 columns]",
      "text/html": "<div>\n<style scoped>\n    .dataframe tbody tr th:only-of-type {\n        vertical-align: middle;\n    }\n\n    .dataframe tbody tr th {\n        vertical-align: top;\n    }\n\n    .dataframe thead th {\n        text-align: right;\n    }\n</style>\n<table border=\"1\" class=\"dataframe\">\n  <thead>\n    <tr style=\"text-align: right;\">\n      <th></th>\n      <th>id</th>\n      <th>relevant?</th>\n      <th>title</th>\n      <th>Clickable Link</th>\n      <th>authors</th>\n      <th>doi</th>\n      <th>link</th>\n      <th>pub_year</th>\n      <th>type</th>\n      <th>abstract</th>\n      <th>source</th>\n      <th>pub_title</th>\n    </tr>\n  </thead>\n  <tbody>\n    <tr>\n      <th>445</th>\n      <td>446</td>\n      <td>duplicate</td>\n      <td>Transparent 3rd-Party Authentication with Appl...</td>\n      <td>https://ieeexplore.ieee.org/stamp/stamp.jsp?ar...</td>\n      <td>A. Ali; Y. -D. Lin; C. -Y. Li; Y. -C. Lai</td>\n      <td>10.1109/EuCNC48522.2020.9200937</td>\n      <td>https://ieeexplore.ieee.org/stamp/stamp.jsp?ar...</td>\n      <td>20200.0</td>\n      <td>IEEE Conferences</td>\n      <td>Multi-access Edge Computing (MEC) is a key tec...</td>\n      <td>IEEE Xplore</td>\n      <td>2020 European Conference on Networks and Commu...</td>\n    </tr>\n    <tr>\n      <th>1381</th>\n      <td>1382</td>\n      <td>duplicate</td>\n      <td>Principled Design of the Modern Web Architecture</td>\n      <td>https://doi.org/10.1145/514183.514185;http://d...</td>\n      <td>Fielding RT,Taylor RN</td>\n      <td>10.1145/514183.514185</td>\n      <td>https://doi.org/10.1145/514183.514185;http://d...</td>\n      <td>2002.0</td>\n      <td>Journal Article</td>\n      <td>The World Wide Web has succeeded in large part...</td>\n      <td>ACM Digital Library</td>\n      <td>ACM Trans. Internet Technol.</td>\n    </tr>\n    <tr>\n      <th>2134</th>\n      <td>2135</td>\n      <td>duplicate</td>\n      <td>Fast, Compact, and Expressive Attribute-Based ...</td>\n      <td>https://www.scopus.com/inward/record.uri?eid=2...</td>\n      <td>Tomida, Junichi (57191262200); Kawahara, Yuto ...</td>\n      <td>10.1007/978-3-030-45374-9_1</td>\n      <td>https://www.scopus.com/inward/record.uri?eid=2...</td>\n      <td>2020.0</td>\n      <td>Conference paper</td>\n      <td>Attribute-based encryption (ABE) is an advance...</td>\n      <td>Scopus</td>\n      <td>Lecture Notes in Computer Science (including s...</td>\n    </tr>\n    <tr>\n      <th>2209</th>\n      <td>2210</td>\n      <td>duplicate</td>\n      <td>A review of factors influencing the implementa...</td>\n      <td>https://www.scopus.com/inward/record.uri?eid=2...</td>\n      <td>Jakeri, Mazni Mohamed (57207773656); Hassan, M...</td>\n      <td>10.1109/IISA.2018.8631401</td>\n      <td>https://www.scopus.com/inward/record.uri?eid=2...</td>\n      <td>2019.0</td>\n      <td>Conference paper</td>\n      <td>Every year, web applications have expanded the...</td>\n      <td>Scopus</td>\n      <td>2018 IEEE Conference on Application, Informati...</td>\n    </tr>\n    <tr>\n      <th>2727</th>\n      <td>2728</td>\n      <td>duplicate</td>\n      <td>Born and raised distributively: Fully distribu...</td>\n      <td>https://www.scopus.com/inward/record.uri?eid=2...</td>\n      <td>Libert, Benoît (8921974100); Joye, Marc (55919...</td>\n      <td>10.1016/j.tcs.2016.02.031</td>\n      <td>https://www.scopus.com/inward/record.uri?eid=2...</td>\n      <td>2016.0</td>\n      <td>Article</td>\n      <td>Threshold cryptography is a fundamental distri...</td>\n      <td>Scopus</td>\n      <td>Theoretical Computer Science</td>\n    </tr>\n    <tr>\n      <th>...</th>\n      <td>...</td>\n      <td>...</td>\n      <td>...</td>\n      <td>...</td>\n      <td>...</td>\n      <td>...</td>\n      <td>...</td>\n      <td>...</td>\n      <td>...</td>\n      <td>...</td>\n      <td>...</td>\n      <td>...</td>\n    </tr>\n    <tr>\n      <th>4354</th>\n      <td>4355</td>\n      <td>duplicate</td>\n      <td>Total Information Awareness (TIA)</td>\n      <td>NaN</td>\n      <td>Poindexter J,Popp R,Sharkey B</td>\n      <td>NaN</td>\n      <td>NaN</td>\n      <td>2003.0</td>\n      <td>Conference Paper</td>\n      <td>The world has changed dramatically since the C...</td>\n      <td>Web of Science</td>\n      <td>2003 IEEE AEROSPACE CONFERENCE PROCEEDINGS, VO...</td>\n    </tr>\n    <tr>\n      <th>4355</th>\n      <td>4356</td>\n      <td>duplicate</td>\n      <td>Peeking into Your App without Actually Seeing ...</td>\n      <td>NaN</td>\n      <td>Chen QA,Qian Z,Mao ZM</td>\n      <td>NaN</td>\n      <td>NaN</td>\n      <td>2014.0</td>\n      <td>Conference Paper</td>\n      <td>The security of smartphone GUI frameworks rema...</td>\n      <td>Web of Science</td>\n      <td>PROCEEDINGS OF THE 23RD USENIX SECURITY SYMPOSIUM</td>\n    </tr>\n    <tr>\n      <th>4356</th>\n      <td>4357</td>\n      <td>duplicate</td>\n      <td>USING PROCESS-ORIENTED-GROUPING AND LINEAR ALG...</td>\n      <td>NaN</td>\n      <td>Koch T,Deutschmann A,Moeller DP</td>\n      <td>NaN</td>\n      <td>NaN</td>\n      <td>2019.0</td>\n      <td>Conference Paper</td>\n      <td>Airport operation gets more complicated due to...</td>\n      <td>Web of Science</td>\n      <td>2019 INTEGRATED COMMUNICATIONS, NAVIGATION AND...</td>\n    </tr>\n    <tr>\n      <th>4357</th>\n      <td>4358</td>\n      <td>duplicate</td>\n      <td>THE RESEARCH ON ULTRASONIC TESTING TECHNOLOGY ...</td>\n      <td>NaN</td>\n      <td>Liang G,Xuguang X,Jiafan C,Zhaoyu C</td>\n      <td>NaN</td>\n      <td>NaN</td>\n      <td>2017.0</td>\n      <td>Conference Paper</td>\n      <td>Reactor Pressure Vessel (hereinafter RPV) is t...</td>\n      <td>Web of Science</td>\n      <td>PROCEEDINGS OF THE 25TH INTERNATIONAL CONFEREN...</td>\n    </tr>\n    <tr>\n      <th>4359</th>\n      <td>4360</td>\n      <td>duplicate</td>\n      <td>Using Cloud SaaS to ensure interoperability an...</td>\n      <td>NaN</td>\n      <td>Majda E,Ahmed E</td>\n      <td>NaN</td>\n      <td>NaN</td>\n      <td>2015.0</td>\n      <td>Conference Paper</td>\n      <td>During the last years, because of the evolutio...</td>\n      <td>Web of Science</td>\n      <td>PROCEEDINGS OF THE 2015 5TH WORLD CONGRESS ON ...</td>\n    </tr>\n  </tbody>\n</table>\n<p>226 rows × 12 columns</p>\n</div>"
     },
     "execution_count": 63,
     "metadata": {},
     "output_type": "execute_result"
    }
   ],
   "source": [
    "ids_dupl_after_enh = df_manual_parse_raw[df_manual_parse_raw['relevant?'] == 'duplicate']\n",
    "ids_dupl_after_enh"
   ],
   "metadata": {
    "collapsed": false,
    "ExecuteTime": {
     "end_time": "2023-09-11T07:40:42.526749700Z",
     "start_time": "2023-09-11T07:40:42.493133500Z"
    }
   },
   "id": "9ed461af036c4b7"
  },
  {
   "cell_type": "code",
   "execution_count": 64,
   "outputs": [
    {
     "data": {
      "text/plain": "        id relevant?                                              title  \\\n0        1         y  An integrated state transition-Boolean logic m...   \n1        2         n  Wind power multi-scenario state transition bas...   \n2        3         n  A Software Watermarking Algorithm Based on Sta...   \n3        4         y  A network security situation perception model ...   \n4        5         n  An Improved State Transition-Based Security Po...   \n...    ...       ...                                                ...   \n4335  4336         n  A Hybrid Evolutionary Computation Algorithm fo...   \n4347  4348         n  Action-based Authentication Scheme for Mobile ...   \n4352  4353         y  Designing reliable server pools for battlefiel...   \n4353  4354         n  Research on Government Functions in the Constr...   \n4358  4359         n  Achievements and Perspectives of the COSMO-Sky...   \n\n                                         Clickable Link  \\\n0     https://ieeexplore.ieee.org/stamp/stamp.jsp?ar...   \n1     https://ieeexplore.ieee.org/stamp/stamp.jsp?ar...   \n2     https://ieeexplore.ieee.org/stamp/stamp.jsp?ar...   \n3     https://ieeexplore.ieee.org/stamp/stamp.jsp?ar...   \n4     https://ieeexplore.ieee.org/stamp/stamp.jsp?ar...   \n...                                                 ...   \n4335                                                NaN   \n4347                                                NaN   \n4352                                                NaN   \n4353                                                NaN   \n4358                                                NaN   \n\n                                                authors  \\\n0                    A. Zimba; C. Hongsong; W. Zhaoshun   \n1                   M. Xiang; M. Zhou; Z. Zhang; Y. Liu   \n2                                 X. Jinchao; Z. Guosun   \n3                                      Liu Nian; Y. Liu   \n4     D. Xiangdong; C. Xingyuan; W. Yongliang; W. Yi...   \n...                                                 ...   \n4335                         Huang CM,Huang YC,Huang KY   \n4347                               Garcia JE,Atienza RO   \n4352               Fecko MA,Samtani S,Uyar MU,Conrad PT   \n4353                               Shaojun W,Zengtian L   \n4358  Valentini G,Battazza F,Coletta A,Covello F,Man...   \n\n                           doi  \\\n0     10.1109/CCI.2016.7778962   \n1         10.1049/cp.2012.1808   \n2          10.1109/NSS.2010.51   \n3         10.1049/cp.2012.0940   \n4       10.1109/ICCIS.2010.154   \n...                        ...   \n4335                       NaN   \n4347                       NaN   \n4352                       NaN   \n4353                       NaN   \n4358                       NaN   \n\n                                                   link  pub_year  \\\n0     https://ieeexplore.ieee.org/stamp/stamp.jsp?ar...   20160.0   \n1     https://ieeexplore.ieee.org/stamp/stamp.jsp?ar...   20120.0   \n2     https://ieeexplore.ieee.org/stamp/stamp.jsp?ar...   20100.0   \n3     https://ieeexplore.ieee.org/stamp/stamp.jsp?ar...   20120.0   \n4     https://ieeexplore.ieee.org/stamp/stamp.jsp?ar...   20100.0   \n...                                                 ...       ...   \n4335                                                NaN    2012.0   \n4347                                                NaN    2010.0   \n4352                                                NaN    2002.0   \n4353                                                NaN    2010.0   \n4358                                                NaN    2009.0   \n\n                  type                                           abstract  \\\n0     IEEE Conferences  The hype over cloud computing cannot go unnoti...   \n1      IET Conferences  As wind power penetrations are increasing in t...   \n2     IEEE Conferences  In the Internet age, Software security and pir...   \n3      IET Conferences  This paper proposes a new Model of Network Sec...   \n4     IEEE Conferences  Security policy is the core to ensure the syst...   \n...                ...                                                ...   \n4335  Conference Paper  This paper proposes a hybrid evolutionary comp...   \n4347  Conference Paper  Recent trends show an increase in usage of mob...   \n4352  Conference Paper  We discuss research issues pertinent to provid...   \n4353  Conference Paper  In the course of urbanization, the threat from...   \n4358  Conference Paper  In 2007 and 2008 ASI (Agenzia Spaziale Italian...   \n\n              source                                          pub_title  \n0        IEEE Xplore  2016 First IEEE International Conference on Co...  \n1        IEEE Xplore  International Conference on Sustainable Power ...  \n2        IEEE Xplore  2010 Fourth International Conference on Networ...  \n3        IEEE Xplore  International Conference on Automatic Control ...  \n4        IEEE Xplore  2010 International Conference on Computational...  \n...              ...                                                ...  \n4335  Web of Science  2012 INTERNATIONAL CONFERENCE ON ARTIFICIAL IN...  \n4347  Web of Science  2011 INTERNATIONAL CONFERENCE ON COMPUTERS, CO...  \n4352  Web of Science  6TH WORLD MULTICONFERENCE ON SYSTEMICS, CYBERN...  \n4353  Web of Science  URBANIZATION AND LAND RESERVATION RESEARCH: PR...  \n4358  Web of Science       PIERS 2009 MOSCOW VOLS I AND II, PROCEEDINGS  \n\n[4134 rows x 12 columns]",
      "text/html": "<div>\n<style scoped>\n    .dataframe tbody tr th:only-of-type {\n        vertical-align: middle;\n    }\n\n    .dataframe tbody tr th {\n        vertical-align: top;\n    }\n\n    .dataframe thead th {\n        text-align: right;\n    }\n</style>\n<table border=\"1\" class=\"dataframe\">\n  <thead>\n    <tr style=\"text-align: right;\">\n      <th></th>\n      <th>id</th>\n      <th>relevant?</th>\n      <th>title</th>\n      <th>Clickable Link</th>\n      <th>authors</th>\n      <th>doi</th>\n      <th>link</th>\n      <th>pub_year</th>\n      <th>type</th>\n      <th>abstract</th>\n      <th>source</th>\n      <th>pub_title</th>\n    </tr>\n  </thead>\n  <tbody>\n    <tr>\n      <th>0</th>\n      <td>1</td>\n      <td>y</td>\n      <td>An integrated state transition-Boolean logic m...</td>\n      <td>https://ieeexplore.ieee.org/stamp/stamp.jsp?ar...</td>\n      <td>A. Zimba; C. Hongsong; W. Zhaoshun</td>\n      <td>10.1109/CCI.2016.7778962</td>\n      <td>https://ieeexplore.ieee.org/stamp/stamp.jsp?ar...</td>\n      <td>20160.0</td>\n      <td>IEEE Conferences</td>\n      <td>The hype over cloud computing cannot go unnoti...</td>\n      <td>IEEE Xplore</td>\n      <td>2016 First IEEE International Conference on Co...</td>\n    </tr>\n    <tr>\n      <th>1</th>\n      <td>2</td>\n      <td>n</td>\n      <td>Wind power multi-scenario state transition bas...</td>\n      <td>https://ieeexplore.ieee.org/stamp/stamp.jsp?ar...</td>\n      <td>M. Xiang; M. Zhou; Z. Zhang; Y. Liu</td>\n      <td>10.1049/cp.2012.1808</td>\n      <td>https://ieeexplore.ieee.org/stamp/stamp.jsp?ar...</td>\n      <td>20120.0</td>\n      <td>IET Conferences</td>\n      <td>As wind power penetrations are increasing in t...</td>\n      <td>IEEE Xplore</td>\n      <td>International Conference on Sustainable Power ...</td>\n    </tr>\n    <tr>\n      <th>2</th>\n      <td>3</td>\n      <td>n</td>\n      <td>A Software Watermarking Algorithm Based on Sta...</td>\n      <td>https://ieeexplore.ieee.org/stamp/stamp.jsp?ar...</td>\n      <td>X. Jinchao; Z. Guosun</td>\n      <td>10.1109/NSS.2010.51</td>\n      <td>https://ieeexplore.ieee.org/stamp/stamp.jsp?ar...</td>\n      <td>20100.0</td>\n      <td>IEEE Conferences</td>\n      <td>In the Internet age, Software security and pir...</td>\n      <td>IEEE Xplore</td>\n      <td>2010 Fourth International Conference on Networ...</td>\n    </tr>\n    <tr>\n      <th>3</th>\n      <td>4</td>\n      <td>y</td>\n      <td>A network security situation perception model ...</td>\n      <td>https://ieeexplore.ieee.org/stamp/stamp.jsp?ar...</td>\n      <td>Liu Nian; Y. Liu</td>\n      <td>10.1049/cp.2012.0940</td>\n      <td>https://ieeexplore.ieee.org/stamp/stamp.jsp?ar...</td>\n      <td>20120.0</td>\n      <td>IET Conferences</td>\n      <td>This paper proposes a new Model of Network Sec...</td>\n      <td>IEEE Xplore</td>\n      <td>International Conference on Automatic Control ...</td>\n    </tr>\n    <tr>\n      <th>4</th>\n      <td>5</td>\n      <td>n</td>\n      <td>An Improved State Transition-Based Security Po...</td>\n      <td>https://ieeexplore.ieee.org/stamp/stamp.jsp?ar...</td>\n      <td>D. Xiangdong; C. Xingyuan; W. Yongliang; W. Yi...</td>\n      <td>10.1109/ICCIS.2010.154</td>\n      <td>https://ieeexplore.ieee.org/stamp/stamp.jsp?ar...</td>\n      <td>20100.0</td>\n      <td>IEEE Conferences</td>\n      <td>Security policy is the core to ensure the syst...</td>\n      <td>IEEE Xplore</td>\n      <td>2010 International Conference on Computational...</td>\n    </tr>\n    <tr>\n      <th>...</th>\n      <td>...</td>\n      <td>...</td>\n      <td>...</td>\n      <td>...</td>\n      <td>...</td>\n      <td>...</td>\n      <td>...</td>\n      <td>...</td>\n      <td>...</td>\n      <td>...</td>\n      <td>...</td>\n      <td>...</td>\n    </tr>\n    <tr>\n      <th>4335</th>\n      <td>4336</td>\n      <td>n</td>\n      <td>A Hybrid Evolutionary Computation Algorithm fo...</td>\n      <td>NaN</td>\n      <td>Huang CM,Huang YC,Huang KY</td>\n      <td>NaN</td>\n      <td>NaN</td>\n      <td>2012.0</td>\n      <td>Conference Paper</td>\n      <td>This paper proposes a hybrid evolutionary comp...</td>\n      <td>Web of Science</td>\n      <td>2012 INTERNATIONAL CONFERENCE ON ARTIFICIAL IN...</td>\n    </tr>\n    <tr>\n      <th>4347</th>\n      <td>4348</td>\n      <td>n</td>\n      <td>Action-based Authentication Scheme for Mobile ...</td>\n      <td>NaN</td>\n      <td>Garcia JE,Atienza RO</td>\n      <td>NaN</td>\n      <td>NaN</td>\n      <td>2010.0</td>\n      <td>Conference Paper</td>\n      <td>Recent trends show an increase in usage of mob...</td>\n      <td>Web of Science</td>\n      <td>2011 INTERNATIONAL CONFERENCE ON COMPUTERS, CO...</td>\n    </tr>\n    <tr>\n      <th>4352</th>\n      <td>4353</td>\n      <td>y</td>\n      <td>Designing reliable server pools for battlefiel...</td>\n      <td>NaN</td>\n      <td>Fecko MA,Samtani S,Uyar MU,Conrad PT</td>\n      <td>NaN</td>\n      <td>NaN</td>\n      <td>2002.0</td>\n      <td>Conference Paper</td>\n      <td>We discuss research issues pertinent to provid...</td>\n      <td>Web of Science</td>\n      <td>6TH WORLD MULTICONFERENCE ON SYSTEMICS, CYBERN...</td>\n    </tr>\n    <tr>\n      <th>4353</th>\n      <td>4354</td>\n      <td>n</td>\n      <td>Research on Government Functions in the Constr...</td>\n      <td>NaN</td>\n      <td>Shaojun W,Zengtian L</td>\n      <td>NaN</td>\n      <td>NaN</td>\n      <td>2010.0</td>\n      <td>Conference Paper</td>\n      <td>In the course of urbanization, the threat from...</td>\n      <td>Web of Science</td>\n      <td>URBANIZATION AND LAND RESERVATION RESEARCH: PR...</td>\n    </tr>\n    <tr>\n      <th>4358</th>\n      <td>4359</td>\n      <td>n</td>\n      <td>Achievements and Perspectives of the COSMO-Sky...</td>\n      <td>NaN</td>\n      <td>Valentini G,Battazza F,Coletta A,Covello F,Man...</td>\n      <td>NaN</td>\n      <td>NaN</td>\n      <td>2009.0</td>\n      <td>Conference Paper</td>\n      <td>In 2007 and 2008 ASI (Agenzia Spaziale Italian...</td>\n      <td>Web of Science</td>\n      <td>PIERS 2009 MOSCOW VOLS I AND II, PROCEEDINGS</td>\n    </tr>\n  </tbody>\n</table>\n<p>4134 rows × 12 columns</p>\n</div>"
     },
     "execution_count": 64,
     "metadata": {},
     "output_type": "execute_result"
    }
   ],
   "source": [
    "df_manual_parse_title_marked = df_manual_parse_raw.copy()\n",
    "no_duplicates = df_manual_parse_title_marked[df_manual_parse_title_marked['relevant?'] != 'duplicate']\n",
    "no_duplicates"
   ],
   "metadata": {
    "collapsed": false,
    "ExecuteTime": {
     "end_time": "2023-09-11T07:40:42.544521200Z",
     "start_time": "2023-09-11T07:40:42.521508100Z"
    }
   },
   "id": "c928195da5adf3"
  },
  {
   "cell_type": "code",
   "execution_count": 65,
   "outputs": [
    {
     "data": {
      "text/plain": "Empty DataFrame\nColumns: [id, relevant?, title, Clickable Link, authors, doi, link, pub_year, type, abstract, source, pub_title]\nIndex: []",
      "text/html": "<div>\n<style scoped>\n    .dataframe tbody tr th:only-of-type {\n        vertical-align: middle;\n    }\n\n    .dataframe tbody tr th {\n        vertical-align: top;\n    }\n\n    .dataframe thead th {\n        text-align: right;\n    }\n</style>\n<table border=\"1\" class=\"dataframe\">\n  <thead>\n    <tr style=\"text-align: right;\">\n      <th></th>\n      <th>id</th>\n      <th>relevant?</th>\n      <th>title</th>\n      <th>Clickable Link</th>\n      <th>authors</th>\n      <th>doi</th>\n      <th>link</th>\n      <th>pub_year</th>\n      <th>type</th>\n      <th>abstract</th>\n      <th>source</th>\n      <th>pub_title</th>\n    </tr>\n  </thead>\n  <tbody>\n  </tbody>\n</table>\n</div>"
     },
     "execution_count": 65,
     "metadata": {},
     "output_type": "execute_result"
    }
   ],
   "source": [
    "no_duplicates_copy = no_duplicates.copy()\n",
    "\n",
    "no_duplicates_copy.title = no_duplicates_copy.title.apply(lambda x: x.lower() if isinstance(x, str) else x)\n",
    "no_duplicates_copy[no_duplicates_copy.title.duplicated()]"
   ],
   "metadata": {
    "collapsed": false,
    "ExecuteTime": {
     "end_time": "2023-09-11T07:40:42.596053Z",
     "start_time": "2023-09-11T07:40:42.543438500Z"
    }
   },
   "id": "7e6d1f56c6eb55f0"
  },
  {
   "cell_type": "code",
   "execution_count": 66,
   "outputs": [
    {
     "data": {
      "text/plain": "        id  relevant?                                              title  \\\n0        1          y  An integrated state transition-Boolean logic m...   \n1        2          n  Wind power multi-scenario state transition bas...   \n2        3          n  A Software Watermarking Algorithm Based on Sta...   \n3        4          y  A network security situation perception model ...   \n4        5          n  An Improved State Transition-Based Security Po...   \n...    ...        ...                                                ...   \n4355  4356  duplicate  Peeking into Your App without Actually Seeing ...   \n4356  4357  duplicate  USING PROCESS-ORIENTED-GROUPING AND LINEAR ALG...   \n4357  4358  duplicate  THE RESEARCH ON ULTRASONIC TESTING TECHNOLOGY ...   \n4358  4359          n  Achievements and Perspectives of the COSMO-Sky...   \n4359  4360  duplicate  Using Cloud SaaS to ensure interoperability an...   \n\n                                         Clickable Link  \\\n0     https://ieeexplore.ieee.org/stamp/stamp.jsp?ar...   \n1     https://ieeexplore.ieee.org/stamp/stamp.jsp?ar...   \n2     https://ieeexplore.ieee.org/stamp/stamp.jsp?ar...   \n3     https://ieeexplore.ieee.org/stamp/stamp.jsp?ar...   \n4     https://ieeexplore.ieee.org/stamp/stamp.jsp?ar...   \n...                                                 ...   \n4355                                                NaN   \n4356                                                NaN   \n4357                                                NaN   \n4358                                                NaN   \n4359                                                NaN   \n\n                                                authors  \\\n0                    A. Zimba; C. Hongsong; W. Zhaoshun   \n1                   M. Xiang; M. Zhou; Z. Zhang; Y. Liu   \n2                                 X. Jinchao; Z. Guosun   \n3                                      Liu Nian; Y. Liu   \n4     D. Xiangdong; C. Xingyuan; W. Yongliang; W. Yi...   \n...                                                 ...   \n4355                              Chen QA,Qian Z,Mao ZM   \n4356                    Koch T,Deutschmann A,Moeller DP   \n4357                Liang G,Xuguang X,Jiafan C,Zhaoyu C   \n4358  Valentini G,Battazza F,Coletta A,Covello F,Man...   \n4359                                    Majda E,Ahmed E   \n\n                           doi  \\\n0     10.1109/CCI.2016.7778962   \n1         10.1049/cp.2012.1808   \n2          10.1109/NSS.2010.51   \n3         10.1049/cp.2012.0940   \n4       10.1109/ICCIS.2010.154   \n...                        ...   \n4355                       NaN   \n4356                       NaN   \n4357                       NaN   \n4358                       NaN   \n4359                       NaN   \n\n                                                   link  pub_year  \\\n0     https://ieeexplore.ieee.org/stamp/stamp.jsp?ar...   20160.0   \n1     https://ieeexplore.ieee.org/stamp/stamp.jsp?ar...   20120.0   \n2     https://ieeexplore.ieee.org/stamp/stamp.jsp?ar...   20100.0   \n3     https://ieeexplore.ieee.org/stamp/stamp.jsp?ar...   20120.0   \n4     https://ieeexplore.ieee.org/stamp/stamp.jsp?ar...   20100.0   \n...                                                 ...       ...   \n4355                                                NaN    2014.0   \n4356                                                NaN    2019.0   \n4357                                                NaN    2017.0   \n4358                                                NaN    2009.0   \n4359                                                NaN    2015.0   \n\n                  type                                           abstract  \\\n0     IEEE Conferences  The hype over cloud computing cannot go unnoti...   \n1      IET Conferences  As wind power penetrations are increasing in t...   \n2     IEEE Conferences  In the Internet age, Software security and pir...   \n3      IET Conferences  This paper proposes a new Model of Network Sec...   \n4     IEEE Conferences  Security policy is the core to ensure the syst...   \n...                ...                                                ...   \n4355  Conference Paper  The security of smartphone GUI frameworks rema...   \n4356  Conference Paper  Airport operation gets more complicated due to...   \n4357  Conference Paper  Reactor Pressure Vessel (hereinafter RPV) is t...   \n4358  Conference Paper  In 2007 and 2008 ASI (Agenzia Spaziale Italian...   \n4359  Conference Paper  During the last years, because of the evolutio...   \n\n              source                                          pub_title  \n0        IEEE Xplore  2016 First IEEE International Conference on Co...  \n1        IEEE Xplore  International Conference on Sustainable Power ...  \n2        IEEE Xplore  2010 Fourth International Conference on Networ...  \n3        IEEE Xplore  International Conference on Automatic Control ...  \n4        IEEE Xplore  2010 International Conference on Computational...  \n...              ...                                                ...  \n4355  Web of Science  PROCEEDINGS OF THE 23RD USENIX SECURITY SYMPOSIUM  \n4356  Web of Science  2019 INTEGRATED COMMUNICATIONS, NAVIGATION AND...  \n4357  Web of Science  PROCEEDINGS OF THE 25TH INTERNATIONAL CONFEREN...  \n4358  Web of Science       PIERS 2009 MOSCOW VOLS I AND II, PROCEEDINGS  \n4359  Web of Science  PROCEEDINGS OF THE 2015 5TH WORLD CONGRESS ON ...  \n\n[4360 rows x 12 columns]",
      "text/html": "<div>\n<style scoped>\n    .dataframe tbody tr th:only-of-type {\n        vertical-align: middle;\n    }\n\n    .dataframe tbody tr th {\n        vertical-align: top;\n    }\n\n    .dataframe thead th {\n        text-align: right;\n    }\n</style>\n<table border=\"1\" class=\"dataframe\">\n  <thead>\n    <tr style=\"text-align: right;\">\n      <th></th>\n      <th>id</th>\n      <th>relevant?</th>\n      <th>title</th>\n      <th>Clickable Link</th>\n      <th>authors</th>\n      <th>doi</th>\n      <th>link</th>\n      <th>pub_year</th>\n      <th>type</th>\n      <th>abstract</th>\n      <th>source</th>\n      <th>pub_title</th>\n    </tr>\n  </thead>\n  <tbody>\n    <tr>\n      <th>0</th>\n      <td>1</td>\n      <td>y</td>\n      <td>An integrated state transition-Boolean logic m...</td>\n      <td>https://ieeexplore.ieee.org/stamp/stamp.jsp?ar...</td>\n      <td>A. Zimba; C. Hongsong; W. Zhaoshun</td>\n      <td>10.1109/CCI.2016.7778962</td>\n      <td>https://ieeexplore.ieee.org/stamp/stamp.jsp?ar...</td>\n      <td>20160.0</td>\n      <td>IEEE Conferences</td>\n      <td>The hype over cloud computing cannot go unnoti...</td>\n      <td>IEEE Xplore</td>\n      <td>2016 First IEEE International Conference on Co...</td>\n    </tr>\n    <tr>\n      <th>1</th>\n      <td>2</td>\n      <td>n</td>\n      <td>Wind power multi-scenario state transition bas...</td>\n      <td>https://ieeexplore.ieee.org/stamp/stamp.jsp?ar...</td>\n      <td>M. Xiang; M. Zhou; Z. Zhang; Y. Liu</td>\n      <td>10.1049/cp.2012.1808</td>\n      <td>https://ieeexplore.ieee.org/stamp/stamp.jsp?ar...</td>\n      <td>20120.0</td>\n      <td>IET Conferences</td>\n      <td>As wind power penetrations are increasing in t...</td>\n      <td>IEEE Xplore</td>\n      <td>International Conference on Sustainable Power ...</td>\n    </tr>\n    <tr>\n      <th>2</th>\n      <td>3</td>\n      <td>n</td>\n      <td>A Software Watermarking Algorithm Based on Sta...</td>\n      <td>https://ieeexplore.ieee.org/stamp/stamp.jsp?ar...</td>\n      <td>X. Jinchao; Z. Guosun</td>\n      <td>10.1109/NSS.2010.51</td>\n      <td>https://ieeexplore.ieee.org/stamp/stamp.jsp?ar...</td>\n      <td>20100.0</td>\n      <td>IEEE Conferences</td>\n      <td>In the Internet age, Software security and pir...</td>\n      <td>IEEE Xplore</td>\n      <td>2010 Fourth International Conference on Networ...</td>\n    </tr>\n    <tr>\n      <th>3</th>\n      <td>4</td>\n      <td>y</td>\n      <td>A network security situation perception model ...</td>\n      <td>https://ieeexplore.ieee.org/stamp/stamp.jsp?ar...</td>\n      <td>Liu Nian; Y. Liu</td>\n      <td>10.1049/cp.2012.0940</td>\n      <td>https://ieeexplore.ieee.org/stamp/stamp.jsp?ar...</td>\n      <td>20120.0</td>\n      <td>IET Conferences</td>\n      <td>This paper proposes a new Model of Network Sec...</td>\n      <td>IEEE Xplore</td>\n      <td>International Conference on Automatic Control ...</td>\n    </tr>\n    <tr>\n      <th>4</th>\n      <td>5</td>\n      <td>n</td>\n      <td>An Improved State Transition-Based Security Po...</td>\n      <td>https://ieeexplore.ieee.org/stamp/stamp.jsp?ar...</td>\n      <td>D. Xiangdong; C. Xingyuan; W. Yongliang; W. Yi...</td>\n      <td>10.1109/ICCIS.2010.154</td>\n      <td>https://ieeexplore.ieee.org/stamp/stamp.jsp?ar...</td>\n      <td>20100.0</td>\n      <td>IEEE Conferences</td>\n      <td>Security policy is the core to ensure the syst...</td>\n      <td>IEEE Xplore</td>\n      <td>2010 International Conference on Computational...</td>\n    </tr>\n    <tr>\n      <th>...</th>\n      <td>...</td>\n      <td>...</td>\n      <td>...</td>\n      <td>...</td>\n      <td>...</td>\n      <td>...</td>\n      <td>...</td>\n      <td>...</td>\n      <td>...</td>\n      <td>...</td>\n      <td>...</td>\n      <td>...</td>\n    </tr>\n    <tr>\n      <th>4355</th>\n      <td>4356</td>\n      <td>duplicate</td>\n      <td>Peeking into Your App without Actually Seeing ...</td>\n      <td>NaN</td>\n      <td>Chen QA,Qian Z,Mao ZM</td>\n      <td>NaN</td>\n      <td>NaN</td>\n      <td>2014.0</td>\n      <td>Conference Paper</td>\n      <td>The security of smartphone GUI frameworks rema...</td>\n      <td>Web of Science</td>\n      <td>PROCEEDINGS OF THE 23RD USENIX SECURITY SYMPOSIUM</td>\n    </tr>\n    <tr>\n      <th>4356</th>\n      <td>4357</td>\n      <td>duplicate</td>\n      <td>USING PROCESS-ORIENTED-GROUPING AND LINEAR ALG...</td>\n      <td>NaN</td>\n      <td>Koch T,Deutschmann A,Moeller DP</td>\n      <td>NaN</td>\n      <td>NaN</td>\n      <td>2019.0</td>\n      <td>Conference Paper</td>\n      <td>Airport operation gets more complicated due to...</td>\n      <td>Web of Science</td>\n      <td>2019 INTEGRATED COMMUNICATIONS, NAVIGATION AND...</td>\n    </tr>\n    <tr>\n      <th>4357</th>\n      <td>4358</td>\n      <td>duplicate</td>\n      <td>THE RESEARCH ON ULTRASONIC TESTING TECHNOLOGY ...</td>\n      <td>NaN</td>\n      <td>Liang G,Xuguang X,Jiafan C,Zhaoyu C</td>\n      <td>NaN</td>\n      <td>NaN</td>\n      <td>2017.0</td>\n      <td>Conference Paper</td>\n      <td>Reactor Pressure Vessel (hereinafter RPV) is t...</td>\n      <td>Web of Science</td>\n      <td>PROCEEDINGS OF THE 25TH INTERNATIONAL CONFEREN...</td>\n    </tr>\n    <tr>\n      <th>4358</th>\n      <td>4359</td>\n      <td>n</td>\n      <td>Achievements and Perspectives of the COSMO-Sky...</td>\n      <td>NaN</td>\n      <td>Valentini G,Battazza F,Coletta A,Covello F,Man...</td>\n      <td>NaN</td>\n      <td>NaN</td>\n      <td>2009.0</td>\n      <td>Conference Paper</td>\n      <td>In 2007 and 2008 ASI (Agenzia Spaziale Italian...</td>\n      <td>Web of Science</td>\n      <td>PIERS 2009 MOSCOW VOLS I AND II, PROCEEDINGS</td>\n    </tr>\n    <tr>\n      <th>4359</th>\n      <td>4360</td>\n      <td>duplicate</td>\n      <td>Using Cloud SaaS to ensure interoperability an...</td>\n      <td>NaN</td>\n      <td>Majda E,Ahmed E</td>\n      <td>NaN</td>\n      <td>NaN</td>\n      <td>2015.0</td>\n      <td>Conference Paper</td>\n      <td>During the last years, because of the evolutio...</td>\n      <td>Web of Science</td>\n      <td>PROCEEDINGS OF THE 2015 5TH WORLD CONGRESS ON ...</td>\n    </tr>\n  </tbody>\n</table>\n<p>4360 rows × 12 columns</p>\n</div>"
     },
     "execution_count": 66,
     "metadata": {},
     "output_type": "execute_result"
    }
   ],
   "source": [
    "df_manual_parse_title_marked"
   ],
   "metadata": {
    "collapsed": false,
    "ExecuteTime": {
     "end_time": "2023-09-11T07:40:42.671464300Z",
     "start_time": "2023-09-11T07:40:42.561473900Z"
    }
   },
   "id": "cc60cd862a103a1"
  },
  {
   "cell_type": "code",
   "execution_count": 67,
   "outputs": [
    {
     "data": {
      "text/plain": "relevant?\nn            2631\ny            1503\nduplicate     226\nName: count, dtype: int64"
     },
     "execution_count": 67,
     "metadata": {},
     "output_type": "execute_result"
    }
   ],
   "source": [
    "df_manual_parse_title_marked['relevant?'].value_counts()"
   ],
   "metadata": {
    "collapsed": false,
    "ExecuteTime": {
     "end_time": "2023-09-11T07:40:42.758429300Z",
     "start_time": "2023-09-11T07:40:42.584062500Z"
    }
   },
   "id": "4b253afc9bc67917"
  },
  {
   "cell_type": "code",
   "execution_count": 68,
   "outputs": [],
   "source": [
    "df_manual_parse_title_marked.to_csv(\n",
    "    (os.path.join('outputs', '03_manual_parse_title', 'filled_out_and_duplicates_marked.csv')), sep=',',\n",
    "    encoding='utf-8', index=False)"
   ],
   "metadata": {
    "collapsed": false,
    "ExecuteTime": {
     "end_time": "2023-09-11T07:40:42.929674400Z",
     "start_time": "2023-09-11T07:40:42.590448600Z"
    }
   },
   "id": "99887ac5fe5024c0"
  },
  {
   "cell_type": "markdown",
   "source": [
    "# Check Team Assignments"
   ],
   "metadata": {
    "collapsed": false
   },
   "id": "f288dd93e5db4fb4"
  },
  {
   "cell_type": "code",
   "execution_count": 69,
   "outputs": [],
   "source": [
    "df_sam = pd.read_csv(os.path.join('input', '03_manual_parse_title_team', '01_rnd_set_clear_exclusion_SAM.csv'),\n",
    "                     delimiter=';')\n",
    "df_mike = pd.read_csv(os.path.join('input', '03_manual_parse_title_team', '02_rnd_set_clear_exclusion_MIKE.csv'),\n",
    "                      delimiter=';', encoding='cp1252')\n",
    "df_mv = pd.read_csv(os.path.join('input', '03_manual_parse_title_team', '03_rnd_set_clear_exclusion_MV.csv'),\n",
    "                    delimiter=';', encoding='cp1252')"
   ],
   "metadata": {
    "collapsed": false,
    "ExecuteTime": {
     "end_time": "2023-09-11T07:40:42.932080100Z",
     "start_time": "2023-09-11T07:40:42.693521500Z"
    }
   },
   "id": "cfb0b54e6b35302f"
  },
  {
   "cell_type": "markdown",
   "source": [
    "### Sam Dataset"
   ],
   "metadata": {
    "collapsed": false
   },
   "id": "f3035ed54e6f30b9"
  },
  {
   "cell_type": "code",
   "execution_count": 70,
   "outputs": [
    {
     "data": {
      "text/plain": "      id Relevant?                                              title ms_vote\n0     58         y  Static Vulnerabilities Detection Based on Exte...       y\n1     63         n  Security evaluation of proactive secret sharin...       n\n2    119         y  Dependability Analysis of Information Systems ...       y\n3    145         n  HealthSense: A medical use case of Internet of...       n\n4    164         y  Security Function Virtualization Based Moving ...       y\n..   ...       ...                                                ...     ...\n95  4225         n  Conjugate 2DPalmHash Code for Secure Palm-prin...       n\n96  4243         n  Secure Web Based Home Automation Application L...       n\n97  4269         n  Distributed Denial of Service Attacks Detectio...       y\n98  4304         n  Bayesian Decision Fusion of Palm and Finger Pr...       n\n99  4328         n  Abstract Certification of Global Non-interfere...       y\n\n[100 rows x 4 columns]",
      "text/html": "<div>\n<style scoped>\n    .dataframe tbody tr th:only-of-type {\n        vertical-align: middle;\n    }\n\n    .dataframe tbody tr th {\n        vertical-align: top;\n    }\n\n    .dataframe thead th {\n        text-align: right;\n    }\n</style>\n<table border=\"1\" class=\"dataframe\">\n  <thead>\n    <tr style=\"text-align: right;\">\n      <th></th>\n      <th>id</th>\n      <th>Relevant?</th>\n      <th>title</th>\n      <th>ms_vote</th>\n    </tr>\n  </thead>\n  <tbody>\n    <tr>\n      <th>0</th>\n      <td>58</td>\n      <td>y</td>\n      <td>Static Vulnerabilities Detection Based on Exte...</td>\n      <td>y</td>\n    </tr>\n    <tr>\n      <th>1</th>\n      <td>63</td>\n      <td>n</td>\n      <td>Security evaluation of proactive secret sharin...</td>\n      <td>n</td>\n    </tr>\n    <tr>\n      <th>2</th>\n      <td>119</td>\n      <td>y</td>\n      <td>Dependability Analysis of Information Systems ...</td>\n      <td>y</td>\n    </tr>\n    <tr>\n      <th>3</th>\n      <td>145</td>\n      <td>n</td>\n      <td>HealthSense: A medical use case of Internet of...</td>\n      <td>n</td>\n    </tr>\n    <tr>\n      <th>4</th>\n      <td>164</td>\n      <td>y</td>\n      <td>Security Function Virtualization Based Moving ...</td>\n      <td>y</td>\n    </tr>\n    <tr>\n      <th>...</th>\n      <td>...</td>\n      <td>...</td>\n      <td>...</td>\n      <td>...</td>\n    </tr>\n    <tr>\n      <th>95</th>\n      <td>4225</td>\n      <td>n</td>\n      <td>Conjugate 2DPalmHash Code for Secure Palm-prin...</td>\n      <td>n</td>\n    </tr>\n    <tr>\n      <th>96</th>\n      <td>4243</td>\n      <td>n</td>\n      <td>Secure Web Based Home Automation Application L...</td>\n      <td>n</td>\n    </tr>\n    <tr>\n      <th>97</th>\n      <td>4269</td>\n      <td>n</td>\n      <td>Distributed Denial of Service Attacks Detectio...</td>\n      <td>y</td>\n    </tr>\n    <tr>\n      <th>98</th>\n      <td>4304</td>\n      <td>n</td>\n      <td>Bayesian Decision Fusion of Palm and Finger Pr...</td>\n      <td>n</td>\n    </tr>\n    <tr>\n      <th>99</th>\n      <td>4328</td>\n      <td>n</td>\n      <td>Abstract Certification of Global Non-interfere...</td>\n      <td>y</td>\n    </tr>\n  </tbody>\n</table>\n<p>100 rows × 4 columns</p>\n</div>"
     },
     "execution_count": 70,
     "metadata": {},
     "output_type": "execute_result"
    }
   ],
   "source": [
    "ms_vote_on_sam = df_manual_parse_title_marked[df_manual_parse_title_marked.id.isin(df_sam.id)]['relevant?']\n",
    "df_sam = df_sam.assign(ms_vote=pd.Series(ms_vote_on_sam).values)\n",
    "\n",
    "#### handle duplicates manually ####\n",
    "# n,Transparent 3rd-Party Authentication With Application Mobility for 5G Mobile Edge Computing\n",
    "# n,Threshold public-key encryption with adaptive security and short ciphertexts\n",
    "# y,Computer immunodeficiency: Analogy between computer security and HIV\n",
    "# y,Distributed denial of service attacks detection using support vector machine\n",
    "# y,Abstract certification of global non-interference in rewriting logic\n",
    "\n",
    "idx_dupl_0 = df_sam[\n",
    "    df_sam.title == 'Transparent 3rd-Party Authentication with Application Mobility for 5G Mobile Edge Computing'].index[\n",
    "    0]\n",
    "idx_dupl_1 = \\\n",
    "df_sam[df_sam.title == 'Threshold Public-Key Encryption with Adaptive Security and Short Ciphertexts'].index[0]\n",
    "idx_dupl_2 = df_sam[df_sam.title == 'Computer Immunodeficiency: Analogy between Computer Security and HIV'].index[0]\n",
    "idx_dupl_3 = \\\n",
    "df_sam[df_sam.title == 'Distributed Denial of Service Attacks Detection Using Support Vector Machine'].index[0]\n",
    "idx_dupl_4 = df_sam[df_sam.title == 'Abstract Certification of Global Non-interference in Rewriting Logic'].index[0]\n",
    "df_sam.at[idx_dupl_0, 'ms_vote'] = 'n'\n",
    "df_sam.at[idx_dupl_1, 'ms_vote'] = 'n'\n",
    "df_sam.at[idx_dupl_2, 'ms_vote'] = 'y'\n",
    "df_sam.at[idx_dupl_3, 'ms_vote'] = 'y'\n",
    "df_sam.at[idx_dupl_4, 'ms_vote'] = 'y'\n",
    "\n",
    "df_sam['Relevant?'] = df_sam['Relevant?'].str.lower()\n",
    "\n",
    "df_sam"
   ],
   "metadata": {
    "collapsed": false,
    "ExecuteTime": {
     "end_time": "2023-09-11T07:40:42.932080100Z",
     "start_time": "2023-09-11T07:40:42.705994500Z"
    }
   },
   "id": "70f6ea9edd92795e"
  },
  {
   "cell_type": "markdown",
   "source": [
    "### Mike Dataset"
   ],
   "metadata": {
    "collapsed": false
   },
   "id": "4152da9ec91e23bd"
  },
  {
   "cell_type": "code",
   "execution_count": 71,
   "outputs": [
    {
     "data": {
      "text/plain": "      id Relevant?                                              title ms_vote\n0     18         y  Semantic Intrusion Detection System using patt...       n\n1    107         y    A network state based intrusion detection model       n\n2    125         y  Policy Monitoring and a Finite State Automata ...       y\n3    231         y  A Self-Adaptive Bell–LaPadula Model Based on M...       n\n4    269         n     Continuous Authentication of Embedded Software       n\n..   ...       ...                                                ...     ...\n95  4099         y  Detecting malicious activities through port pr...       y\n96  4119         y  Integrated package for real-time security enha...       y\n97  4146         n  Memory-Map Shuffling: An Adaptive Security-Ris...       y\n98  4223         y  Study on adaptive protection system of power s...       y\n99  4274         y     Novel Multimodal Template Generation Algorithm       n\n\n[100 rows x 4 columns]",
      "text/html": "<div>\n<style scoped>\n    .dataframe tbody tr th:only-of-type {\n        vertical-align: middle;\n    }\n\n    .dataframe tbody tr th {\n        vertical-align: top;\n    }\n\n    .dataframe thead th {\n        text-align: right;\n    }\n</style>\n<table border=\"1\" class=\"dataframe\">\n  <thead>\n    <tr style=\"text-align: right;\">\n      <th></th>\n      <th>id</th>\n      <th>Relevant?</th>\n      <th>title</th>\n      <th>ms_vote</th>\n    </tr>\n  </thead>\n  <tbody>\n    <tr>\n      <th>0</th>\n      <td>18</td>\n      <td>y</td>\n      <td>Semantic Intrusion Detection System using patt...</td>\n      <td>n</td>\n    </tr>\n    <tr>\n      <th>1</th>\n      <td>107</td>\n      <td>y</td>\n      <td>A network state based intrusion detection model</td>\n      <td>n</td>\n    </tr>\n    <tr>\n      <th>2</th>\n      <td>125</td>\n      <td>y</td>\n      <td>Policy Monitoring and a Finite State Automata ...</td>\n      <td>y</td>\n    </tr>\n    <tr>\n      <th>3</th>\n      <td>231</td>\n      <td>y</td>\n      <td>A Self-Adaptive Bell–LaPadula Model Based on M...</td>\n      <td>n</td>\n    </tr>\n    <tr>\n      <th>4</th>\n      <td>269</td>\n      <td>n</td>\n      <td>Continuous Authentication of Embedded Software</td>\n      <td>n</td>\n    </tr>\n    <tr>\n      <th>...</th>\n      <td>...</td>\n      <td>...</td>\n      <td>...</td>\n      <td>...</td>\n    </tr>\n    <tr>\n      <th>95</th>\n      <td>4099</td>\n      <td>y</td>\n      <td>Detecting malicious activities through port pr...</td>\n      <td>y</td>\n    </tr>\n    <tr>\n      <th>96</th>\n      <td>4119</td>\n      <td>y</td>\n      <td>Integrated package for real-time security enha...</td>\n      <td>y</td>\n    </tr>\n    <tr>\n      <th>97</th>\n      <td>4146</td>\n      <td>n</td>\n      <td>Memory-Map Shuffling: An Adaptive Security-Ris...</td>\n      <td>y</td>\n    </tr>\n    <tr>\n      <th>98</th>\n      <td>4223</td>\n      <td>y</td>\n      <td>Study on adaptive protection system of power s...</td>\n      <td>y</td>\n    </tr>\n    <tr>\n      <th>99</th>\n      <td>4274</td>\n      <td>y</td>\n      <td>Novel Multimodal Template Generation Algorithm</td>\n      <td>n</td>\n    </tr>\n  </tbody>\n</table>\n<p>100 rows × 4 columns</p>\n</div>"
     },
     "execution_count": 71,
     "metadata": {},
     "output_type": "execute_result"
    }
   ],
   "source": [
    "ms_vote_on_sam = df_manual_parse_title_marked[df_manual_parse_title_marked.id.isin(df_mike.id)]['relevant?']\n",
    "df_mike = df_mike.assign(ms_vote=pd.Series(ms_vote_on_sam).values)\n",
    "\n",
    "#### handle duplicates ####\n",
    "# Study on adaptive protection system of power supply and distribution line, y\n",
    "# Novel Multimodal Template Generation Algorithm, n\n",
    "\n",
    "idx_dupl_0 = \\\n",
    "df_mike[df_mike.title == 'Study on adaptive protection system of power supply and distribution line'].index[0]\n",
    "idx_dupl_1 = df_mike[df_mike.title == 'Novel Multimodal Template Generation Algorithm'].index[0]\n",
    "df_mike.at[idx_dupl_0, 'ms_vote'] = 'y'\n",
    "df_mike.at[idx_dupl_1, 'ms_vote'] = 'n'\n",
    "\n",
    "df_mike['Relevant?'] = df_mike['Relevant?'].str.lower()\n",
    "\n",
    "df_mike"
   ],
   "metadata": {
    "collapsed": false,
    "ExecuteTime": {
     "end_time": "2023-09-11T07:40:42.964880500Z",
     "start_time": "2023-09-11T07:40:42.720575400Z"
    }
   },
   "id": "9d27589c597f9ed1"
  },
  {
   "cell_type": "markdown",
   "source": [
    "### MV Dataset"
   ],
   "metadata": {
    "collapsed": false
   },
   "id": "70c295988c1b3405"
  },
  {
   "cell_type": "code",
   "execution_count": 72,
   "outputs": [
    {
     "data": {
      "text/plain": "      id Relevant?                                              title ms_vote\n0     46         n  Frequency Response Capabilities of Utility-sca...       n\n1     76         n  Generalized n+2 state system Markov model for ...       n\n2    142         y    Hybrid Hierarchical Network Intrusion Detection       n\n3    143         y  A State-Adaptive Access Control Model for Web-...       y\n4    151         n  Power grids reliability appraisal with intrusi...       n\n..   ...       ...                                                ...     ...\n95  4143         y  Power Consumption Aware Software Architecture ...       y\n96  4148         y  Security Policy Transition Framework for Softw...       y\n97  4151         y  Research on Measures for Computer Application ...       y\n98  4303         y  TCP-Fuzz: Detecting Memory and Semantic Bugs i...       n\n99  4325         n  Formal Specification and Verification of wirel...       n\n\n[100 rows x 4 columns]",
      "text/html": "<div>\n<style scoped>\n    .dataframe tbody tr th:only-of-type {\n        vertical-align: middle;\n    }\n\n    .dataframe tbody tr th {\n        vertical-align: top;\n    }\n\n    .dataframe thead th {\n        text-align: right;\n    }\n</style>\n<table border=\"1\" class=\"dataframe\">\n  <thead>\n    <tr style=\"text-align: right;\">\n      <th></th>\n      <th>id</th>\n      <th>Relevant?</th>\n      <th>title</th>\n      <th>ms_vote</th>\n    </tr>\n  </thead>\n  <tbody>\n    <tr>\n      <th>0</th>\n      <td>46</td>\n      <td>n</td>\n      <td>Frequency Response Capabilities of Utility-sca...</td>\n      <td>n</td>\n    </tr>\n    <tr>\n      <th>1</th>\n      <td>76</td>\n      <td>n</td>\n      <td>Generalized n+2 state system Markov model for ...</td>\n      <td>n</td>\n    </tr>\n    <tr>\n      <th>2</th>\n      <td>142</td>\n      <td>y</td>\n      <td>Hybrid Hierarchical Network Intrusion Detection</td>\n      <td>n</td>\n    </tr>\n    <tr>\n      <th>3</th>\n      <td>143</td>\n      <td>y</td>\n      <td>A State-Adaptive Access Control Model for Web-...</td>\n      <td>y</td>\n    </tr>\n    <tr>\n      <th>4</th>\n      <td>151</td>\n      <td>n</td>\n      <td>Power grids reliability appraisal with intrusi...</td>\n      <td>n</td>\n    </tr>\n    <tr>\n      <th>...</th>\n      <td>...</td>\n      <td>...</td>\n      <td>...</td>\n      <td>...</td>\n    </tr>\n    <tr>\n      <th>95</th>\n      <td>4143</td>\n      <td>y</td>\n      <td>Power Consumption Aware Software Architecture ...</td>\n      <td>y</td>\n    </tr>\n    <tr>\n      <th>96</th>\n      <td>4148</td>\n      <td>y</td>\n      <td>Security Policy Transition Framework for Softw...</td>\n      <td>y</td>\n    </tr>\n    <tr>\n      <th>97</th>\n      <td>4151</td>\n      <td>y</td>\n      <td>Research on Measures for Computer Application ...</td>\n      <td>y</td>\n    </tr>\n    <tr>\n      <th>98</th>\n      <td>4303</td>\n      <td>y</td>\n      <td>TCP-Fuzz: Detecting Memory and Semantic Bugs i...</td>\n      <td>n</td>\n    </tr>\n    <tr>\n      <th>99</th>\n      <td>4325</td>\n      <td>n</td>\n      <td>Formal Specification and Verification of wirel...</td>\n      <td>n</td>\n    </tr>\n  </tbody>\n</table>\n<p>100 rows × 4 columns</p>\n</div>"
     },
     "execution_count": 72,
     "metadata": {},
     "output_type": "execute_result"
    }
   ],
   "source": [
    "ms_vote_on_sam = df_manual_parse_title_marked[df_manual_parse_title_marked.id.isin(df_mv.id)]['relevant?']\n",
    "df_mv = df_mv.assign(ms_vote=pd.Series(ms_vote_on_sam).values)\n",
    "\n",
    "#### Handle duplicates manually ####\n",
    "# Power Consumption Aware Software Architecture for M-Health Applications with Adaptive Security of Network Protocols, y\n",
    "# Security Policy Transition Framework for Software Defined Networks, y\n",
    "# TCP-Fuzz: Detecting Memory and Semantic Bugs in TCP Stacks with Fuzzing, n\n",
    "# Formal Specification and Verification of wireless networked self-organized Systems on Chip, n\n",
    "\n",
    "\n",
    "idx_dupl_0 = df_mv[\n",
    "    df_mv.title == 'Power Consumption Aware Software Architecture for M-Health Applications with Adaptive Security of Network Protocols'].index[\n",
    "    0]\n",
    "idx_dupl_1 = df_mv[df_mv.title == 'Security Policy Transition Framework for Software Defined Networks'].index[0]\n",
    "idx_dupl_2 = df_mv[df_mv.title == 'TCP-Fuzz: Detecting Memory and Semantic Bugs in TCP Stacks with Fuzzing'].index[0]\n",
    "idx_dupl_3 = df_mv[\n",
    "    df_mv.title == 'Formal Specification and Verification of wireless networked self-organized Systems on Chip'].index[\n",
    "    0]\n",
    "df_mv.at[idx_dupl_0, 'ms_vote'] = 'y'\n",
    "df_mv.at[idx_dupl_1, 'ms_vote'] = 'y'\n",
    "df_mv.at[idx_dupl_2, 'ms_vote'] = 'n'\n",
    "df_mv.at[idx_dupl_3, 'ms_vote'] = 'n'\n",
    "\n",
    "df_mv['Relevant?'] = df_mv['Relevant?'].str.lower()\n",
    "\n",
    "df_mv"
   ],
   "metadata": {
    "collapsed": false,
    "ExecuteTime": {
     "end_time": "2023-09-11T07:40:42.974542700Z",
     "start_time": "2023-09-11T07:40:42.742989500Z"
    }
   },
   "id": "6281477f2d55e7db"
  },
  {
   "cell_type": "markdown",
   "source": [
    "### Check relevant disagreements"
   ],
   "metadata": {
    "collapsed": false
   },
   "id": "47aa0ce722e4bc80"
  },
  {
   "cell_type": "code",
   "execution_count": 73,
   "outputs": [
    {
     "data": {
      "text/plain": "      id Relevant?                                              title ms_vote  \\\n0     58         y  Static Vulnerabilities Detection Based on Exte...       y   \n1     63         n  Security evaluation of proactive secret sharin...       n   \n2    119         y  Dependability Analysis of Information Systems ...       y   \n3    145         n  HealthSense: A medical use case of Internet of...       n   \n4    164         y  Security Function Virtualization Based Moving ...       y   \n..   ...       ...                                                ...     ...   \n95  4225         n  Conjugate 2DPalmHash Code for Secure Palm-prin...       n   \n96  4243         n  Secure Web Based Home Automation Application L...       n   \n97  4269         n  Distributed Denial of Service Attacks Detectio...       y   \n98  4304         n  Bayesian Decision Fusion of Palm and Finger Pr...       n   \n99  4328         n  Abstract Certification of Global Non-interfere...       y   \n\n   disagree  \n0         y  \n1         n  \n2         y  \n3         n  \n4         y  \n..      ...  \n95        n  \n96        n  \n97        y  \n98        n  \n99        y  \n\n[100 rows x 5 columns]",
      "text/html": "<div>\n<style scoped>\n    .dataframe tbody tr th:only-of-type {\n        vertical-align: middle;\n    }\n\n    .dataframe tbody tr th {\n        vertical-align: top;\n    }\n\n    .dataframe thead th {\n        text-align: right;\n    }\n</style>\n<table border=\"1\" class=\"dataframe\">\n  <thead>\n    <tr style=\"text-align: right;\">\n      <th></th>\n      <th>id</th>\n      <th>Relevant?</th>\n      <th>title</th>\n      <th>ms_vote</th>\n      <th>disagree</th>\n    </tr>\n  </thead>\n  <tbody>\n    <tr>\n      <th>0</th>\n      <td>58</td>\n      <td>y</td>\n      <td>Static Vulnerabilities Detection Based on Exte...</td>\n      <td>y</td>\n      <td>y</td>\n    </tr>\n    <tr>\n      <th>1</th>\n      <td>63</td>\n      <td>n</td>\n      <td>Security evaluation of proactive secret sharin...</td>\n      <td>n</td>\n      <td>n</td>\n    </tr>\n    <tr>\n      <th>2</th>\n      <td>119</td>\n      <td>y</td>\n      <td>Dependability Analysis of Information Systems ...</td>\n      <td>y</td>\n      <td>y</td>\n    </tr>\n    <tr>\n      <th>3</th>\n      <td>145</td>\n      <td>n</td>\n      <td>HealthSense: A medical use case of Internet of...</td>\n      <td>n</td>\n      <td>n</td>\n    </tr>\n    <tr>\n      <th>4</th>\n      <td>164</td>\n      <td>y</td>\n      <td>Security Function Virtualization Based Moving ...</td>\n      <td>y</td>\n      <td>y</td>\n    </tr>\n    <tr>\n      <th>...</th>\n      <td>...</td>\n      <td>...</td>\n      <td>...</td>\n      <td>...</td>\n      <td>...</td>\n    </tr>\n    <tr>\n      <th>95</th>\n      <td>4225</td>\n      <td>n</td>\n      <td>Conjugate 2DPalmHash Code for Secure Palm-prin...</td>\n      <td>n</td>\n      <td>n</td>\n    </tr>\n    <tr>\n      <th>96</th>\n      <td>4243</td>\n      <td>n</td>\n      <td>Secure Web Based Home Automation Application L...</td>\n      <td>n</td>\n      <td>n</td>\n    </tr>\n    <tr>\n      <th>97</th>\n      <td>4269</td>\n      <td>n</td>\n      <td>Distributed Denial of Service Attacks Detectio...</td>\n      <td>y</td>\n      <td>y</td>\n    </tr>\n    <tr>\n      <th>98</th>\n      <td>4304</td>\n      <td>n</td>\n      <td>Bayesian Decision Fusion of Palm and Finger Pr...</td>\n      <td>n</td>\n      <td>n</td>\n    </tr>\n    <tr>\n      <th>99</th>\n      <td>4328</td>\n      <td>n</td>\n      <td>Abstract Certification of Global Non-interfere...</td>\n      <td>y</td>\n      <td>y</td>\n    </tr>\n  </tbody>\n</table>\n<p>100 rows × 5 columns</p>\n</div>"
     },
     "execution_count": 73,
     "metadata": {},
     "output_type": "execute_result"
    }
   ],
   "source": [
    "import numpy as np\n",
    "\n",
    "## disagreements with sam\n",
    "df_sam['disagree'] = np.where((df_sam['Relevant?'] == 'y') & (df_sam['ms_vote'] == 'n'), 'DISAGREEMENT', df_sam['ms_vote'])\n",
    "df_sam"
   ],
   "metadata": {
    "collapsed": false,
    "ExecuteTime": {
     "end_time": "2023-09-11T07:40:42.978179300Z",
     "start_time": "2023-09-11T07:40:42.782669700Z"
    }
   },
   "id": "6b6722322a96d3e1"
  },
  {
   "cell_type": "markdown",
   "source": [
    "#### 8 disagreements on\n",
    "Secure electronic voting machine using multi-modal biometric authentication system, data encryption, and firewall\n",
    "Robust multimodal biometric authentication algorithms using fingerprint, iris and voice features fusion\n",
    "Score Level based Fusion Method for Multimodal Biometric Recognition using Palmprint and Iris\n",
    "Quality based adaptive score fusion approach for multimodal biometric system\n",
    "Continuous user authentication using multimodal biometric traits with optimal feature level fusion\n",
    "Multimodal biometrics authentication using multiple matching algorithm\n",
    "Multimodal biometric system based on near- infra-red dorsal hand geometry and fingerprints for single and whole hands\n",
    "Multimodal cryptosystem based on fuzzy commitment\n",
    "\n",
    "_Disagreements only because of different domain knowledge; All 8 articles are about multimodal biometrics or in the end a so called feature-fusion of two or more datasets.\n",
    " It refers to using multiple biometric sources of the human body (e.g., finger AND ear) which is also known as multi-modal biometric. This has nothing to do with modes in the sense of this study._\n",
    "\n",
    "\n"
   ],
   "metadata": {
    "collapsed": false
   },
   "id": "9374b01e928da245"
  },
  {
   "cell_type": "code",
   "execution_count": 74,
   "outputs": [
    {
     "data": {
      "text/plain": "      id Relevant?                                              title ms_vote  \\\n0     18         y  Semantic Intrusion Detection System using patt...       n   \n1    107         y    A network state based intrusion detection model       n   \n2    125         y  Policy Monitoring and a Finite State Automata ...       y   \n3    231         y  A Self-Adaptive Bell–LaPadula Model Based on M...       n   \n4    269         n     Continuous Authentication of Embedded Software       n   \n..   ...       ...                                                ...     ...   \n95  4099         y  Detecting malicious activities through port pr...       y   \n96  4119         y  Integrated package for real-time security enha...       y   \n97  4146         n  Memory-Map Shuffling: An Adaptive Security-Ris...       y   \n98  4223         y  Study on adaptive protection system of power s...       y   \n99  4274         y     Novel Multimodal Template Generation Algorithm       n   \n\n        disagree  \n0   DISAGREEMENT  \n1   DISAGREEMENT  \n2              y  \n3   DISAGREEMENT  \n4              n  \n..           ...  \n95             y  \n96             y  \n97             y  \n98             y  \n99  DISAGREEMENT  \n\n[100 rows x 5 columns]",
      "text/html": "<div>\n<style scoped>\n    .dataframe tbody tr th:only-of-type {\n        vertical-align: middle;\n    }\n\n    .dataframe tbody tr th {\n        vertical-align: top;\n    }\n\n    .dataframe thead th {\n        text-align: right;\n    }\n</style>\n<table border=\"1\" class=\"dataframe\">\n  <thead>\n    <tr style=\"text-align: right;\">\n      <th></th>\n      <th>id</th>\n      <th>Relevant?</th>\n      <th>title</th>\n      <th>ms_vote</th>\n      <th>disagree</th>\n    </tr>\n  </thead>\n  <tbody>\n    <tr>\n      <th>0</th>\n      <td>18</td>\n      <td>y</td>\n      <td>Semantic Intrusion Detection System using patt...</td>\n      <td>n</td>\n      <td>DISAGREEMENT</td>\n    </tr>\n    <tr>\n      <th>1</th>\n      <td>107</td>\n      <td>y</td>\n      <td>A network state based intrusion detection model</td>\n      <td>n</td>\n      <td>DISAGREEMENT</td>\n    </tr>\n    <tr>\n      <th>2</th>\n      <td>125</td>\n      <td>y</td>\n      <td>Policy Monitoring and a Finite State Automata ...</td>\n      <td>y</td>\n      <td>y</td>\n    </tr>\n    <tr>\n      <th>3</th>\n      <td>231</td>\n      <td>y</td>\n      <td>A Self-Adaptive Bell–LaPadula Model Based on M...</td>\n      <td>n</td>\n      <td>DISAGREEMENT</td>\n    </tr>\n    <tr>\n      <th>4</th>\n      <td>269</td>\n      <td>n</td>\n      <td>Continuous Authentication of Embedded Software</td>\n      <td>n</td>\n      <td>n</td>\n    </tr>\n    <tr>\n      <th>...</th>\n      <td>...</td>\n      <td>...</td>\n      <td>...</td>\n      <td>...</td>\n      <td>...</td>\n    </tr>\n    <tr>\n      <th>95</th>\n      <td>4099</td>\n      <td>y</td>\n      <td>Detecting malicious activities through port pr...</td>\n      <td>y</td>\n      <td>y</td>\n    </tr>\n    <tr>\n      <th>96</th>\n      <td>4119</td>\n      <td>y</td>\n      <td>Integrated package for real-time security enha...</td>\n      <td>y</td>\n      <td>y</td>\n    </tr>\n    <tr>\n      <th>97</th>\n      <td>4146</td>\n      <td>n</td>\n      <td>Memory-Map Shuffling: An Adaptive Security-Ris...</td>\n      <td>y</td>\n      <td>y</td>\n    </tr>\n    <tr>\n      <th>98</th>\n      <td>4223</td>\n      <td>y</td>\n      <td>Study on adaptive protection system of power s...</td>\n      <td>y</td>\n      <td>y</td>\n    </tr>\n    <tr>\n      <th>99</th>\n      <td>4274</td>\n      <td>y</td>\n      <td>Novel Multimodal Template Generation Algorithm</td>\n      <td>n</td>\n      <td>DISAGREEMENT</td>\n    </tr>\n  </tbody>\n</table>\n<p>100 rows × 5 columns</p>\n</div>"
     },
     "execution_count": 74,
     "metadata": {},
     "output_type": "execute_result"
    }
   ],
   "source": [
    "## disagreements with mike\n",
    "df_mike['disagree'] = np.where((df_mike['Relevant?'] == 'y') & (df_mike['ms_vote'] == 'n'), 'DISAGREEMENT', df_mike['ms_vote'])\n",
    "df_mike"
   ],
   "metadata": {
    "collapsed": false,
    "ExecuteTime": {
     "end_time": "2023-09-11T07:40:42.978179300Z",
     "start_time": "2023-09-11T07:40:42.797423300Z"
    }
   },
   "id": "32264507af02a7bd"
  },
  {
   "cell_type": "markdown",
   "source": [
    "\n",
    "#### 21 disagreements\n",
    "\n",
    "\n",
    "##### Exclusion by domain knowledge\n",
    "**irrelevant because of multimodal biometrics**\n",
    "Group Activity Recognition by Using Effective Multiple Modality Relation Representation with Temporal-Spatial Attention,n,DISAGREEMENT\n",
    "Biometric Authentication Using Fused Multimodal Biometric,n,DISAGREEMENT\n",
    "Multimodal biometrics security system for authentication,n,DISAGREEMENT\n",
    "Security enhancement of internet banking applications by using multimodal biometrics,n,DISAGREEMENT\n",
    "Usability evaluation of multi-modal biometric verification systems,n,DISAGREEMENT\n",
    "Multi-modal biometric fusion based continuous user authentication for E-proctoring using hybrid LCNN-Salp swarm optimization,n,DISAGREEMENT\n",
    "Novel Multimodal Template Generation Algorithm,n,DISAGREEMENT\n",
    "\n",
    "**irrelevant since articles refer to distribution of energy in power grids (security here usually refers to voltage stability or \"security of supply\")**\n",
    "Two-stage self-adaption security and low-carbon dispatch strategy of energy storage systems in distribution networks with high proportion of photovoltaics,n,DISAGREEMENT\n",
    "Optimized utilization of decentral flexibility for the operational management of cellular multi-modal distribution grids,n,DISAGREEMENT\n",
    "\n",
    "**irrelevant since multimodal refers to usage of multiple data sources (e.g., multiple sensors) for better image recognition** \n",
    "The monitoring platform for campus security based on intelligent assisted vision,n,DISAGREEMENT\n",
    "\n",
    "**irrelevant since state transition models are used as part of IDS**\n",
    "_-> no \"switch\" with respect to the attack surface or similar approach; rather to find, predict and analyze intrusions;_ \n",
    "Semantic Intrusion Detection System using pattern matching and state transition analysis,n,DISAGREEMENT\n",
    "Adaptive IDS for Cooperative Intelligent Transportation Systems Using Deep Belief Networks,n,DISAGREEMENT\n",
    "A network state based intrusion detection model,n,DISAGREEMENT\n",
    "\n",
    "**relevant since in context of wireless networks -> response actions taken**  \n",
    "Intrusion detection system for mitigating attacks using energy monitoring in wireless sensor networks,n,DISAGREEMENT\n",
    "A Dynamic Programming Model for Internal Attack Detection in Wireless Sensor Networks,n,DISAGREEMENT\n",
    "----> Must be included, I had something else by wireless networks in mind; I performed a manual search in all the papers where wireless (sensor) networks or WSN are in the title; parsed 33 articles again and included another \n",
    "\n",
    "\n",
    "**Got second opinion from MV, since I'd still exclude them **\n",
    "Design of wind power and water desalination reconfigurable control system based on functional analysis approach,n,DISAGREEMENT\n",
    "Multi-Modal Cooperative Intelligent Transport Systems to Improve Safety,n,DISAGREEMENT\n",
    "A real-time remote safety monitoring system for commercial vehicle operations,n,DISAGREEMENT\n",
    "An end-to-end lwm2m-based communication architecture for multimodal NB-IoT/BLE devices,n,DISAGREEMENT\n",
    "Cryptographic protection for military radio communications,n,DISAGREEMENT\n",
    "A Self-Adaptive Bell–LaPadula Model Based on Model Training With Historical Access Logs,n,DISAGREEMENT\n",
    "\n",
    "_This is the decision of MV:_\n",
    "- y\t- Multi-Modal Cooperative Intelligent Transport Systems to Improve Safety\n",
    "- y\t- A real-time remote safety monitoring system for commercial vehicle operations\n",
    "- y\t- A Self-Adaptive Bell–LaPadula Model Based on Model Training With Historical Access Logs\n",
    "- n\t- Design of wind power and water desalination reconfigurable control system based on functional analysis approach\n",
    "- n\t- An end-to-end lwm2m-based communication architecture for multimodal NB-IoT/BLE devices\n",
    "- n\t- Cryptographic protection for military radio communications\n",
    "\n",
    "respectively included the three articles and excluded the others"
   ],
   "metadata": {
    "collapsed": false
   },
   "id": "830d5d56f97cd78d"
  },
  {
   "cell_type": "code",
   "execution_count": 75,
   "outputs": [
    {
     "data": {
      "text/plain": "      id Relevant?                                              title ms_vote  \\\n0     46         n  Frequency Response Capabilities of Utility-sca...       n   \n1     76         n  Generalized n+2 state system Markov model for ...       n   \n2    142         y    Hybrid Hierarchical Network Intrusion Detection       n   \n3    143         y  A State-Adaptive Access Control Model for Web-...       y   \n4    151         n  Power grids reliability appraisal with intrusi...       n   \n..   ...       ...                                                ...     ...   \n95  4143         y  Power Consumption Aware Software Architecture ...       y   \n96  4148         y  Security Policy Transition Framework for Softw...       y   \n97  4151         y  Research on Measures for Computer Application ...       y   \n98  4303         y  TCP-Fuzz: Detecting Memory and Semantic Bugs i...       n   \n99  4325         n  Formal Specification and Verification of wirel...       n   \n\n        disagree  \n0              n  \n1              n  \n2   DISAGREEMENT  \n3              y  \n4              n  \n..           ...  \n95             y  \n96             y  \n97             y  \n98  DISAGREEMENT  \n99             n  \n\n[100 rows x 5 columns]",
      "text/html": "<div>\n<style scoped>\n    .dataframe tbody tr th:only-of-type {\n        vertical-align: middle;\n    }\n\n    .dataframe tbody tr th {\n        vertical-align: top;\n    }\n\n    .dataframe thead th {\n        text-align: right;\n    }\n</style>\n<table border=\"1\" class=\"dataframe\">\n  <thead>\n    <tr style=\"text-align: right;\">\n      <th></th>\n      <th>id</th>\n      <th>Relevant?</th>\n      <th>title</th>\n      <th>ms_vote</th>\n      <th>disagree</th>\n    </tr>\n  </thead>\n  <tbody>\n    <tr>\n      <th>0</th>\n      <td>46</td>\n      <td>n</td>\n      <td>Frequency Response Capabilities of Utility-sca...</td>\n      <td>n</td>\n      <td>n</td>\n    </tr>\n    <tr>\n      <th>1</th>\n      <td>76</td>\n      <td>n</td>\n      <td>Generalized n+2 state system Markov model for ...</td>\n      <td>n</td>\n      <td>n</td>\n    </tr>\n    <tr>\n      <th>2</th>\n      <td>142</td>\n      <td>y</td>\n      <td>Hybrid Hierarchical Network Intrusion Detection</td>\n      <td>n</td>\n      <td>DISAGREEMENT</td>\n    </tr>\n    <tr>\n      <th>3</th>\n      <td>143</td>\n      <td>y</td>\n      <td>A State-Adaptive Access Control Model for Web-...</td>\n      <td>y</td>\n      <td>y</td>\n    </tr>\n    <tr>\n      <th>4</th>\n      <td>151</td>\n      <td>n</td>\n      <td>Power grids reliability appraisal with intrusi...</td>\n      <td>n</td>\n      <td>n</td>\n    </tr>\n    <tr>\n      <th>...</th>\n      <td>...</td>\n      <td>...</td>\n      <td>...</td>\n      <td>...</td>\n      <td>...</td>\n    </tr>\n    <tr>\n      <th>95</th>\n      <td>4143</td>\n      <td>y</td>\n      <td>Power Consumption Aware Software Architecture ...</td>\n      <td>y</td>\n      <td>y</td>\n    </tr>\n    <tr>\n      <th>96</th>\n      <td>4148</td>\n      <td>y</td>\n      <td>Security Policy Transition Framework for Softw...</td>\n      <td>y</td>\n      <td>y</td>\n    </tr>\n    <tr>\n      <th>97</th>\n      <td>4151</td>\n      <td>y</td>\n      <td>Research on Measures for Computer Application ...</td>\n      <td>y</td>\n      <td>y</td>\n    </tr>\n    <tr>\n      <th>98</th>\n      <td>4303</td>\n      <td>y</td>\n      <td>TCP-Fuzz: Detecting Memory and Semantic Bugs i...</td>\n      <td>n</td>\n      <td>DISAGREEMENT</td>\n    </tr>\n    <tr>\n      <th>99</th>\n      <td>4325</td>\n      <td>n</td>\n      <td>Formal Specification and Verification of wirel...</td>\n      <td>n</td>\n      <td>n</td>\n    </tr>\n  </tbody>\n</table>\n<p>100 rows × 5 columns</p>\n</div>"
     },
     "execution_count": 75,
     "metadata": {},
     "output_type": "execute_result"
    }
   ],
   "source": [
    "## disagreements with mv\n",
    "df_mv['disagree'] = np.where((df_mv['Relevant?'] == 'y') & (df_mv['ms_vote'] == 'n'), 'DISAGREEMENT', df_mv['ms_vote'])\n",
    "df_mv"
   ],
   "metadata": {
    "collapsed": false,
    "ExecuteTime": {
     "end_time": "2023-09-11T07:41:47.937668900Z",
     "start_time": "2023-09-11T07:41:47.919806400Z"
    }
   },
   "id": "d7ec97c2ebde4c84"
  },
  {
   "cell_type": "markdown",
   "source": [
    "### 23 disagreements\n",
    "\n",
    "#### Exclusion by domain knowledge\n",
    "**multimodal biometrics**\n",
    "Fusion of Multi-Modal Credentials for Authentication in Digital Identity Management Systems\n",
    "Cryptographic key generation from multimodal template using fuzzy extractor\n",
    "\n",
    "**powersystems**\n",
    "State Identification of Power System Based on Visual Geometric Group Network\n",
    "State Estimation of Intelligent Distribution Network Based on Data Fusion\n",
    "\n",
    "**multimodal in context of multiple data sources, multiple features etc. but not actual modes of operation**\n",
    "Deep multimodal representation learning for generalizable person re-identification\n",
    "Autoencoder-Based Collaborative Attention GAN for Multi-Modal Image Synthesis\n",
    "Development Process and Hot Spot Analysis of Object Detection Based on Mapping Knowledge Domains\n",
    "Fault Detection of LLE Compound Statistic Based on Weighted K-nearest Neighbor Selection\n",
    "\n",
    "**Got second opinion on these titles from JS, sicne I'd still exclude them**\n",
    "Prediction of the Domain Name System (DNS) Quality Attributes\n",
    "New fully functioning digital hologram recording system and its applications\n",
    "Enabling self-adaptability of small scale and large scale security systems using dynamic partial reconfiguration\n",
    "Safety analysis of helicopter models using timed automata hybrid systems\n",
    "TCP-Fuzz: Detecting Memory and Semantic Bugs in TCP Stacks with Fuzzing\n",
    "Incremental checkpointing with application to distributed discrete event simulation\n",
    "Finite state machine IP watermarking: A tutorial\n",
    "Continuous variable quantum key distribution with multi-mode signals for noisy detectors\n",
    "Binary Tree Encryption with Constant-Size Public Key in the Standard Model\n",
    "Principled Data-Driven Decision Support for Cyber-Forensic Investigations\n",
    "Improving Virtualization in the Presence of Software Managed Translation Lookaside Buffers\n",
    "A formal downgrading policy framework for the secure sharing of mission sensitive data and services\n",
    "Monotonicity and partial results protection for mobile agents\n",
    "Hybrid Hierarchical Network Intrusion Detection\n",
    "Adaptively secure anonymous identity-based broadcast encryption for data access control in cloud storage service\n",
    "\n",
    "_Decisions of JS_\n",
    "- y\t- Adaptively secure anonymous identity-based broadcast encryption for data access control in cloud storage service\n",
    "- y\t- Enabling self-adaptability of small scale and large scale security systems using dynamic partial reconfiguration\n",
    "- n\t- Prediction of the Domain Name System (DNS) Quality Attributes\n",
    "- n\t- New fully functioning digital hologram recording system and its applications\n",
    "- n\t- Safety analysis of helicopter models using timed automata hybrid systems\n",
    "- n\t- TCP-Fuzz: Detecting Memory and Semantic Bugs in TCP Stacks with Fuzzing\n",
    "- n\t- Incremental checkpointing with application to distributed discrete event simulation\n",
    "- n\t- Finite state machine IP watermarking: A tutorial\n",
    "- n\t- Continuous variable quantum key distribution with multi-mode signals for noisy detectors\n",
    "- n\t- Binary Tree Encryption with Constant-Size Public Key in the Standard Model\n",
    "- n\t- Principled Data-Driven Decision Support for Cyber-Forensic Investigations\n",
    "- n\t- Improving Virtualization in the Presence of Software Managed Translation Lookaside Buffers\n",
    "- n\t- A formal downgrading policy framework for the secure sharing of mission sensitive data and services\n",
    "- n\t- Monotonicity and partial results protection for mobile agents\n",
    "- n\t- Hybrid Hierarchical Network Intrusion Detection\n",
    "\n",
    "Respectively included the 2 other titles and excluded the other ones as I'd proposed initally "
   ],
   "metadata": {
    "collapsed": false
   },
   "id": "ae09e6249b194412"
  }
 ],
 "metadata": {
  "kernelspec": {
   "display_name": "Python 3",
   "language": "python",
   "name": "python3"
  },
  "language_info": {
   "codemirror_mode": {
    "name": "ipython",
    "version": 2
   },
   "file_extension": ".py",
   "mimetype": "text/x-python",
   "name": "python",
   "nbconvert_exporter": "python",
   "pygments_lexer": "ipython2",
   "version": "2.7.6"
  }
 },
 "nbformat": 4,
 "nbformat_minor": 5
}
