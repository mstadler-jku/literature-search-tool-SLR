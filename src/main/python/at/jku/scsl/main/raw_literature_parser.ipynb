{
 "cells": [
  {
   "cell_type": "code",
   "execution_count": 26,
   "metadata": {
    "collapsed": true,
    "ExecuteTime": {
     "end_time": "2023-08-01T09:10:10.058218300Z",
     "start_time": "2023-08-01T09:10:09.501591600Z"
    }
   },
   "outputs": [
    {
     "name": "stdout",
     "output_type": "stream",
     "text": [
      "Results in IEEE\t\t1318\n",
      "Results in ACM\t\t131\n",
      "Results in Scopus\t3941\n",
      "Results in WoS\t\t1250\n",
      "Results in Springer\t26\n",
      "-------------------------------\n",
      "SUM\t\t\t\t\t6666\n"
     ]
    }
   ],
   "source": [
    "import os.path\n",
    "import pandas as pd\n",
    "\n",
    "# paths\n",
    "IEEE_CSV_PATH = os.path.join(\"csv_files\",  \"01_ieee.csv\")\n",
    "ACM_CSV_PATH =os.path.join(\"csv_files\",  \"02_acm.csv\")\n",
    "SCOPUS_CSV_PATH =os.path.join(\"csv_files\",  \"03_scopus.csv\")\n",
    "WOS_CSV_PATH =os.path.join(\"csv_files\",  \"04_wos.csv\")\n",
    "SPRINGER_CSV_PATH =os.path.join(\"csv_files\",  \"05_springer.csv\")\n",
    "\n",
    "# read data\n",
    "df_ieee = pd.read_csv(IEEE_CSV_PATH)\n",
    "df_acm = pd.read_csv(ACM_CSV_PATH)\n",
    "df_scopus = pd.read_csv(SCOPUS_CSV_PATH)\n",
    "df_wos = pd.read_csv(WOS_CSV_PATH)\n",
    "df_springer = pd.read_csv(SPRINGER_CSV_PATH)\n",
    "\n",
    "# print length\n",
    "print(f'Results in IEEE\\t\\t{len(df_ieee)}')\n",
    "print(f'Results in ACM\\t\\t{len(df_acm)}')\n",
    "print(f'Results in Scopus\\t{len(df_scopus)}')\n",
    "print(f'Results in WoS\\t\\t{len(df_wos)}')\n",
    "print(f'Results in Springer\\t{len(df_springer)}')\n",
    "print('-------------------------------')\n",
    "print(f'SUM\\t\\t\\t\\t\\t{len(df_ieee)+ len(df_acm)+ len(df_scopus)+ len(df_wos)+ len(df_springer)}')\n",
    "\n"
   ]
  }
 ],
 "metadata": {
  "kernelspec": {
   "display_name": "Python 3",
   "language": "python",
   "name": "python3"
  },
  "language_info": {
   "codemirror_mode": {
    "name": "ipython",
    "version": 2
   },
   "file_extension": ".py",
   "mimetype": "text/x-python",
   "name": "python",
   "nbconvert_exporter": "python",
   "pygments_lexer": "ipython2",
   "version": "2.7.6"
  }
 },
 "nbformat": 4,
 "nbformat_minor": 0
}
